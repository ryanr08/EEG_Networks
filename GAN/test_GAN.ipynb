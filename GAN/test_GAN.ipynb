{
 "cells": [
  {
   "cell_type": "markdown",
   "metadata": {
    "id": "tLg_7w-RryxS"
   },
   "source": [
    "# Only true data"
   ]
  },
  {
   "cell_type": "markdown",
   "metadata": {
    "id": "RlBVUm6KryxU"
   },
   "source": [
    "## (i) Importing the necessary packages"
   ]
  },
  {
   "cell_type": "code",
   "execution_count": 121,
   "metadata": {
    "id": "N0mgO1jsryxV"
   },
   "outputs": [],
   "source": [
    "import numpy as np\n",
    "import pandas as pd\n",
    "import tensorflow\n",
    "import tensorflow.keras\n",
    "from keras.models import Sequential\n",
    "from keras.layers import Dense, Activation, Flatten,Dropout\n",
    "from keras.layers import Conv2D,BatchNormalization,MaxPooling2D,Reshape\n",
    "from tensorflow.keras.utils import to_categorical\n",
    "import matplotlib.pyplot as plt\n",
    "from model_ACGAN import discriminator\n",
    "import torch"
   ]
  },
  {
   "cell_type": "code",
   "execution_count": 122,
   "metadata": {
    "id": "3Dzekz_8ryxW"
   },
   "outputs": [],
   "source": [
    "## Loading and visualizing the data\n",
    "\n",
    "## Loading the dataset\n",
    "\n",
    "\n",
    "X_test = np.load(\"X_test.npy\")\n",
    "y_test = np.load(\"y_test.npy\")\n",
    "# person_train_valid = np.load(\"person_train_valid.npy\")\n",
    "X_train_valid = np.load(\"X_train_valid.npy\")\n",
    "y_train_valid = np.load(\"y_train_valid.npy\")\n",
    "# person_test = np.load(\"person_test.npy\")\n",
    "\n",
    "## Adjusting the labels so that \n",
    "\n",
    "# Cue onset left - 0\n",
    "# Cue onset right - 1\n",
    "# Cue onset foot - 2\n",
    "# Cue onset tongue - 3\n",
    "\n",
    "y_train_valid -= 769\n",
    "y_test -= 769"
   ]
  },
  {
   "cell_type": "markdown",
   "metadata": {
    "id": "uYHD7_xEryxX"
   },
   "source": [
    "![EEG_prep.png](attachment:EEG_prep.png)"
   ]
  },
  {
   "cell_type": "code",
   "execution_count": 123,
   "metadata": {
    "colab": {
     "base_uri": "https://localhost:8080/"
    },
    "id": "E9W-qnOuryxY",
    "outputId": "83c06488-04eb-46b6-81f9-1473d0affae1"
   },
   "outputs": [
    {
     "name": "stdout",
     "output_type": "stream",
     "text": [
      "Shape of X after trimming: (2115, 22, 500)\n",
      "Shape of X after maxpooling: (2115, 22, 250)\n",
      "Shape of X after averaging+noise and concatenating: (4230, 22, 250)\n",
      "Shape of X after subsampling and concatenating: (8460, 22, 250)\n"
     ]
    }
   ],
   "source": [
    "def data_prep(X,y,sub_sample,average,noise):\n",
    "    \n",
    "    total_X = None\n",
    "    total_y = None\n",
    "    \n",
    "    # Trimming the data (sample,22,1000) -> (sample,22,500)\n",
    "    X = X[:,:,0:500]\n",
    "    print('Shape of X after trimming:',X.shape)\n",
    "    \n",
    "    # Maxpooling the data (sample,22,1000) -> (sample,22,500/sub_sample)\n",
    "    X_max = np.max(X.reshape(X.shape[0], X.shape[1], -1, sub_sample), axis=3)\n",
    "    \n",
    "    \n",
    "    total_X = X_max\n",
    "    total_y = y\n",
    "    print('Shape of X after maxpooling:',total_X.shape)\n",
    "    \n",
    "    # Averaging + noise \n",
    "    X_average = np.mean(X.reshape(X.shape[0], X.shape[1], -1, average),axis=3)\n",
    "    X_average = X_average + np.random.normal(0.0, 0.5, X_average.shape)\n",
    "    \n",
    "    total_X = np.vstack((total_X, X_average))\n",
    "    total_y = np.hstack((total_y, y))\n",
    "    print('Shape of X after averaging+noise and concatenating:',total_X.shape)\n",
    "    \n",
    "    # Subsampling\n",
    "    \n",
    "    for i in range(sub_sample):\n",
    "        \n",
    "        X_subsample = X[:, :, i::sub_sample] + \\\n",
    "                            (np.random.normal(0.0, 0.5, X[:, :,i::sub_sample].shape) if noise else 0.0)\n",
    "            \n",
    "        total_X = np.vstack((total_X, X_subsample))\n",
    "        total_y = np.hstack((total_y, y))\n",
    "        \n",
    "    \n",
    "    print('Shape of X after subsampling and concatenating:',total_X.shape)\n",
    "    return total_X,total_y\n",
    "\n",
    "\n",
    "X_train_valid_prep,y_train_valid_prep = data_prep(X_train_valid,y_train_valid,2,2,True)\n"
   ]
  },
  {
   "cell_type": "code",
   "execution_count": 124,
   "metadata": {
    "colab": {
     "base_uri": "https://localhost:8080/"
    },
    "id": "wWcdxEYCryxZ",
    "outputId": "6bcdb931-c203-4669-c629-c8042c1d94e9"
   },
   "outputs": [
    {
     "name": "stdout",
     "output_type": "stream",
     "text": [
      "Shape of X after trimming: (2115, 22, 500)\n",
      "Shape of X after maxpooling: (2115, 22, 250)\n",
      "Shape of X after averaging+noise and concatenating: (4230, 22, 250)\n",
      "Shape of X after subsampling and concatenating: (8460, 22, 250)\n",
      "Shape of X after trimming: (443, 22, 500)\n",
      "Shape of X after maxpooling: (443, 22, 250)\n",
      "Shape of X after averaging+noise and concatenating: (886, 22, 250)\n",
      "Shape of X after subsampling and concatenating: (1772, 22, 250)\n",
      "Shape of training set: (6960, 22, 250)\n",
      "Shape of validation set: (1500, 22, 250)\n",
      "Shape of training labels: (6960,)\n",
      "Shape of validation labels: (1500,)\n",
      "Shape of training labels after categorical conversion: (6960, 4)\n",
      "Shape of validation labels after categorical conversion: (1500, 4)\n",
      "Shape of test labels after categorical conversion: (1772, 4)\n",
      "Shape of training set after adding width info: (6960, 22, 250, 1)\n",
      "Shape of validation set after adding width info: (1500, 22, 250, 1)\n",
      "Shape of test set after adding width info: (1772, 22, 250, 1)\n",
      "Shape of training set after dimension reshaping: (6960, 250, 1, 22)\n",
      "Shape of validation set after dimension reshaping: (1500, 250, 1, 22)\n",
      "Shape of test set after dimension reshaping: (1772, 250, 1, 22)\n"
     ]
    }
   ],
   "source": [
    "\n",
    "## Preprocessing the dataset\n",
    "\n",
    "X_train_valid_prep,y_train_valid_prep = data_prep(X_train_valid,y_train_valid,2,2,True)\n",
    "X_test_prep,y_test_prep = data_prep(X_test,y_test,2,2,True)\n",
    "\n",
    "# fake_GAN = np.load('GAN.npy')\n",
    "# fake_WGAN = np.load('WGAN.npy')\n",
    "\n",
    "\n",
    "\n",
    "## Random splitting and reshaping the data\n",
    "\n",
    "# First generating the training and validation indices using random splitting\n",
    "ind_valid = np.random.choice(8460, 1500, replace=False)\n",
    "ind_train = np.array(list(set(range(8460)).difference(set(ind_valid))))\n",
    "\n",
    "# Creating the training and validation sets using the generated indices\n",
    "(x_train, x_valid) = X_train_valid_prep[ind_train], X_train_valid_prep[ind_valid] \n",
    "(y_train, y_valid) = y_train_valid_prep[ind_train], y_train_valid_prep[ind_valid]\n",
    "print('Shape of training set:',x_train.shape)\n",
    "print('Shape of validation set:',x_valid.shape)\n",
    "print('Shape of training labels:',y_train.shape)\n",
    "print('Shape of validation labels:',y_valid.shape)\n",
    "\n",
    "\n",
    "# Converting the labels to categorical variables for multiclass classification\n",
    "y_train = to_categorical(y_train, 4)\n",
    "y_valid = to_categorical(y_valid, 4)\n",
    "y_test = to_categorical(y_test_prep, 4)\n",
    "print('Shape of training labels after categorical conversion:',y_train.shape)\n",
    "print('Shape of validation labels after categorical conversion:',y_valid.shape)\n",
    "print('Shape of test labels after categorical conversion:',y_test.shape)\n",
    "\n",
    "# Adding width of the segment to be 1\n",
    "x_train = x_train.reshape(x_train.shape[0], x_train.shape[1], x_train.shape[2], 1)\n",
    "x_valid = x_valid.reshape(x_valid.shape[0], x_valid.shape[1], x_train.shape[2], 1)\n",
    "x_test = X_test_prep.reshape(X_test_prep.shape[0], X_test_prep.shape[1], X_test_prep.shape[2], 1)\n",
    "print('Shape of training set after adding width info:',x_train.shape)\n",
    "print('Shape of validation set after adding width info:',x_valid.shape)\n",
    "print('Shape of test set after adding width info:',x_test.shape)\n",
    "\n",
    "\n",
    "\n",
    "# Reshaping the training and validation dataset\n",
    "x_train = np.swapaxes(x_train, 1,3)\n",
    "x_train = np.swapaxes(x_train, 1,2)\n",
    "x_valid = np.swapaxes(x_valid, 1,3)\n",
    "x_valid = np.swapaxes(x_valid, 1,2)\n",
    "x_test = np.swapaxes(x_test, 1,3)\n",
    "x_test = np.swapaxes(x_test, 1,2)\n",
    "print('Shape of training set after dimension reshaping:',x_train.shape)\n",
    "print('Shape of validation set after dimension reshaping:',x_valid.shape)\n",
    "print('Shape of test set after dimension reshaping:',x_test.shape)\n",
    "\n",
    "\n",
    "\n",
    "\n",
    "\n",
    "    \n",
    "\n"
   ]
  },
  {
   "cell_type": "markdown",
   "metadata": {
    "id": "2X-C34hDryxZ"
   },
   "source": [
    "## (iii)(CNN) Defining the architecture of a basic CNN model"
   ]
  },
  {
   "cell_type": "code",
   "execution_count": 125,
   "metadata": {
    "colab": {
     "base_uri": "https://localhost:8080/"
    },
    "id": "RDqu5zEfryxa",
    "outputId": "ef14101b-f96c-48dc-da62-40c6105bbccc"
   },
   "outputs": [
    {
     "name": "stdout",
     "output_type": "stream",
     "text": [
      "Model: \"sequential_12\"\n",
      "_________________________________________________________________\n",
      " Layer (type)                Output Shape              Param #   \n",
      "=================================================================\n",
      " conv2d_48 (Conv2D)          (None, 250, 1, 25)        5525      \n",
      "                                                                 \n",
      " max_pooling2d_48 (MaxPoolin  (None, 84, 1, 25)        0         \n",
      " g2D)                                                            \n",
      "                                                                 \n",
      " batch_normalization_48 (Bat  (None, 84, 1, 25)        100       \n",
      " chNormalization)                                                \n",
      "                                                                 \n",
      " dropout_48 (Dropout)        (None, 84, 1, 25)         0         \n",
      "                                                                 \n",
      " conv2d_49 (Conv2D)          (None, 84, 1, 50)         12550     \n",
      "                                                                 \n",
      " max_pooling2d_49 (MaxPoolin  (None, 28, 1, 50)        0         \n",
      " g2D)                                                            \n",
      "                                                                 \n",
      " batch_normalization_49 (Bat  (None, 28, 1, 50)        200       \n",
      " chNormalization)                                                \n",
      "                                                                 \n",
      " dropout_49 (Dropout)        (None, 28, 1, 50)         0         \n",
      "                                                                 \n",
      " conv2d_50 (Conv2D)          (None, 28, 1, 100)        50100     \n",
      "                                                                 \n",
      " max_pooling2d_50 (MaxPoolin  (None, 10, 1, 100)       0         \n",
      " g2D)                                                            \n",
      "                                                                 \n",
      " batch_normalization_50 (Bat  (None, 10, 1, 100)       400       \n",
      " chNormalization)                                                \n",
      "                                                                 \n",
      " dropout_50 (Dropout)        (None, 10, 1, 100)        0         \n",
      "                                                                 \n",
      " conv2d_51 (Conv2D)          (None, 10, 1, 200)        200200    \n",
      "                                                                 \n",
      " max_pooling2d_51 (MaxPoolin  (None, 4, 1, 200)        0         \n",
      " g2D)                                                            \n",
      "                                                                 \n",
      " batch_normalization_51 (Bat  (None, 4, 1, 200)        800       \n",
      " chNormalization)                                                \n",
      "                                                                 \n",
      " dropout_51 (Dropout)        (None, 4, 1, 200)         0         \n",
      "                                                                 \n",
      " flatten_12 (Flatten)        (None, 800)               0         \n",
      "                                                                 \n",
      " dense_12 (Dense)            (None, 4)                 3204      \n",
      "                                                                 \n",
      "=================================================================\n",
      "Total params: 273,079\n",
      "Trainable params: 272,329\n",
      "Non-trainable params: 750\n",
      "_________________________________________________________________\n"
     ]
    }
   ],
   "source": [
    "# Building the CNN model using sequential class\n",
    "basic_cnn_model = Sequential()\n",
    "\n",
    "# Conv. block 1\n",
    "basic_cnn_model.add(Conv2D(filters=25, kernel_size=(10,1), padding='same', activation='elu', input_shape=(250,1,22)))\n",
    "basic_cnn_model.add(MaxPooling2D(pool_size=(3,1), padding='same')) # Read the keras documentation\n",
    "basic_cnn_model.add(BatchNormalization())\n",
    "basic_cnn_model.add(Dropout(0.5))\n",
    "\n",
    "# Conv. block 2\n",
    "basic_cnn_model.add(Conv2D(filters=50, kernel_size=(10,1), padding='same', activation='elu'))\n",
    "basic_cnn_model.add(MaxPooling2D(pool_size=(3,1), padding='same'))\n",
    "basic_cnn_model.add(BatchNormalization())\n",
    "basic_cnn_model.add(Dropout(0.5))\n",
    "\n",
    "# Conv. block 3\n",
    "basic_cnn_model.add(Conv2D(filters=100, kernel_size=(10,1), padding='same', activation='elu'))\n",
    "basic_cnn_model.add(MaxPooling2D(pool_size=(3,1), padding='same'))\n",
    "basic_cnn_model.add(BatchNormalization())\n",
    "basic_cnn_model.add(Dropout(0.5))\n",
    "\n",
    "# Conv. block 4\n",
    "basic_cnn_model.add(Conv2D(filters=200, kernel_size=(10,1), padding='same', activation='elu'))\n",
    "basic_cnn_model.add(MaxPooling2D(pool_size=(3,1), padding='same'))\n",
    "basic_cnn_model.add(BatchNormalization())\n",
    "basic_cnn_model.add(Dropout(0.5))\n",
    "\n",
    "# Output layer with Softmax activation\n",
    "basic_cnn_model.add(Flatten()) # Flattens the input\n",
    "basic_cnn_model.add(Dense(4, activation='softmax')) # Output FC layer with softmax activation\n",
    "\n",
    "\n",
    "# Printing the model summary\n",
    "basic_cnn_model.summary()\n",
    "\n"
   ]
  },
  {
   "cell_type": "markdown",
   "metadata": {
    "id": "clIdg48wryxa"
   },
   "source": [
    "## (iv)(CNN) Defining the hyperparameters of the basic CNN model"
   ]
  },
  {
   "cell_type": "code",
   "execution_count": 126,
   "metadata": {
    "colab": {
     "base_uri": "https://localhost:8080/"
    },
    "id": "81zIP-Qoryxa",
    "outputId": "59bc0ad4-96b8-4da4-ed33-744f0122457a"
   },
   "outputs": [
    {
     "name": "stderr",
     "output_type": "stream",
     "text": [
      "/usr/local/lib/python3.7/dist-packages/keras/optimizer_v2/adam.py:105: UserWarning: The `lr` argument is deprecated, use `learning_rate` instead.\n",
      "  super(Adam, self).__init__(name, **kwargs)\n"
     ]
    }
   ],
   "source": [
    "# Model parameters\n",
    "learning_rate = 1e-3\n",
    "epochs = 70\n",
    "cnn_optimizer = tensorflow.keras.optimizers.Adam(lr=learning_rate)"
   ]
  },
  {
   "cell_type": "markdown",
   "metadata": {
    "id": "JFeReAakryxb"
   },
   "source": [
    "## (v)(CNN) Compiling, training and validating the model"
   ]
  },
  {
   "cell_type": "code",
   "execution_count": 127,
   "metadata": {
    "colab": {
     "base_uri": "https://localhost:8080/"
    },
    "id": "BW9MjUaJryxb",
    "outputId": "7424794c-ea6b-4c40-d138-37285a2fcc25"
   },
   "outputs": [
    {
     "name": "stdout",
     "output_type": "stream",
     "text": [
      "Epoch 1/70\n",
      "109/109 [==============================] - 2s 10ms/step - loss: 1.9489 - accuracy: 0.3391 - val_loss: 1.2595 - val_accuracy: 0.4588\n",
      "Epoch 2/70\n",
      "109/109 [==============================] - 1s 7ms/step - loss: 1.4797 - accuracy: 0.4092 - val_loss: 1.1899 - val_accuracy: 0.5011\n",
      "Epoch 3/70\n",
      "109/109 [==============================] - 1s 7ms/step - loss: 1.2942 - accuracy: 0.4605 - val_loss: 1.2044 - val_accuracy: 0.4769\n",
      "Epoch 4/70\n",
      "109/109 [==============================] - 1s 7ms/step - loss: 1.1850 - accuracy: 0.4993 - val_loss: 1.0848 - val_accuracy: 0.5474\n",
      "Epoch 5/70\n",
      "109/109 [==============================] - 1s 8ms/step - loss: 1.1019 - accuracy: 0.5415 - val_loss: 1.0808 - val_accuracy: 0.5423\n",
      "Epoch 6/70\n",
      "109/109 [==============================] - 1s 8ms/step - loss: 1.0380 - accuracy: 0.5675 - val_loss: 1.1042 - val_accuracy: 0.5119\n",
      "Epoch 7/70\n",
      "109/109 [==============================] - 1s 7ms/step - loss: 0.9857 - accuracy: 0.5967 - val_loss: 0.9811 - val_accuracy: 0.5914\n",
      "Epoch 8/70\n",
      "109/109 [==============================] - 1s 7ms/step - loss: 0.9384 - accuracy: 0.6167 - val_loss: 1.0248 - val_accuracy: 0.5734\n",
      "Epoch 9/70\n",
      "109/109 [==============================] - 1s 7ms/step - loss: 0.9032 - accuracy: 0.6365 - val_loss: 0.9619 - val_accuracy: 0.6084\n",
      "Epoch 10/70\n",
      "109/109 [==============================] - 1s 7ms/step - loss: 0.8774 - accuracy: 0.6497 - val_loss: 0.9390 - val_accuracy: 0.6163\n",
      "Epoch 11/70\n",
      "109/109 [==============================] - 1s 7ms/step - loss: 0.8371 - accuracy: 0.6603 - val_loss: 0.9144 - val_accuracy: 0.6326\n",
      "Epoch 12/70\n",
      "109/109 [==============================] - 1s 7ms/step - loss: 0.8105 - accuracy: 0.6726 - val_loss: 0.8663 - val_accuracy: 0.6552\n",
      "Epoch 13/70\n",
      "109/109 [==============================] - 1s 8ms/step - loss: 0.7988 - accuracy: 0.6826 - val_loss: 0.9021 - val_accuracy: 0.6343\n",
      "Epoch 14/70\n",
      "109/109 [==============================] - 1s 7ms/step - loss: 0.7680 - accuracy: 0.6908 - val_loss: 0.8583 - val_accuracy: 0.6620\n",
      "Epoch 15/70\n",
      "109/109 [==============================] - 1s 8ms/step - loss: 0.7486 - accuracy: 0.7079 - val_loss: 0.8667 - val_accuracy: 0.6473\n",
      "Epoch 16/70\n",
      "109/109 [==============================] - 1s 7ms/step - loss: 0.7224 - accuracy: 0.7138 - val_loss: 0.8657 - val_accuracy: 0.6653\n",
      "Epoch 17/70\n",
      "109/109 [==============================] - 1s 7ms/step - loss: 0.7200 - accuracy: 0.7213 - val_loss: 0.8300 - val_accuracy: 0.6648\n",
      "Epoch 18/70\n",
      "109/109 [==============================] - 1s 8ms/step - loss: 0.6963 - accuracy: 0.7293 - val_loss: 0.8572 - val_accuracy: 0.6699\n",
      "Epoch 19/70\n",
      "109/109 [==============================] - 1s 8ms/step - loss: 0.6683 - accuracy: 0.7322 - val_loss: 0.8349 - val_accuracy: 0.6749\n",
      "Epoch 20/70\n",
      "109/109 [==============================] - 1s 8ms/step - loss: 0.6539 - accuracy: 0.7368 - val_loss: 0.8091 - val_accuracy: 0.6828\n",
      "Epoch 21/70\n",
      "109/109 [==============================] - 1s 7ms/step - loss: 0.6365 - accuracy: 0.7447 - val_loss: 0.7741 - val_accuracy: 0.6998\n",
      "Epoch 22/70\n",
      "109/109 [==============================] - 1s 7ms/step - loss: 0.6289 - accuracy: 0.7493 - val_loss: 0.8063 - val_accuracy: 0.6823\n",
      "Epoch 23/70\n",
      "109/109 [==============================] - 1s 7ms/step - loss: 0.6242 - accuracy: 0.7552 - val_loss: 0.8064 - val_accuracy: 0.7020\n",
      "Epoch 24/70\n",
      "109/109 [==============================] - 1s 7ms/step - loss: 0.5958 - accuracy: 0.7675 - val_loss: 0.8054 - val_accuracy: 0.6992\n",
      "Epoch 25/70\n",
      "109/109 [==============================] - 1s 7ms/step - loss: 0.5881 - accuracy: 0.7700 - val_loss: 0.7772 - val_accuracy: 0.7122\n",
      "Epoch 26/70\n",
      "109/109 [==============================] - 1s 7ms/step - loss: 0.5674 - accuracy: 0.7807 - val_loss: 0.8035 - val_accuracy: 0.7054\n",
      "Epoch 27/70\n",
      "109/109 [==============================] - 1s 7ms/step - loss: 0.5524 - accuracy: 0.7786 - val_loss: 0.7988 - val_accuracy: 0.7105\n",
      "Epoch 28/70\n",
      "109/109 [==============================] - 1s 7ms/step - loss: 0.5501 - accuracy: 0.7865 - val_loss: 0.8108 - val_accuracy: 0.6857\n",
      "Epoch 29/70\n",
      "109/109 [==============================] - 1s 7ms/step - loss: 0.5349 - accuracy: 0.7932 - val_loss: 0.8724 - val_accuracy: 0.6879\n",
      "Epoch 30/70\n",
      "109/109 [==============================] - 1s 7ms/step - loss: 0.5189 - accuracy: 0.8011 - val_loss: 0.8053 - val_accuracy: 0.7071\n",
      "Epoch 31/70\n",
      "109/109 [==============================] - 1s 8ms/step - loss: 0.5046 - accuracy: 0.8039 - val_loss: 0.8178 - val_accuracy: 0.7065\n",
      "Epoch 32/70\n",
      "109/109 [==============================] - 1s 7ms/step - loss: 0.4956 - accuracy: 0.8092 - val_loss: 0.7975 - val_accuracy: 0.7088\n",
      "Epoch 33/70\n",
      "109/109 [==============================] - 1s 8ms/step - loss: 0.4909 - accuracy: 0.8139 - val_loss: 0.8046 - val_accuracy: 0.7167\n",
      "Epoch 34/70\n",
      "109/109 [==============================] - 1s 8ms/step - loss: 0.4746 - accuracy: 0.8162 - val_loss: 0.8180 - val_accuracy: 0.7054\n",
      "Epoch 35/70\n",
      "109/109 [==============================] - 1s 7ms/step - loss: 0.4578 - accuracy: 0.8230 - val_loss: 0.8131 - val_accuracy: 0.7161\n",
      "Epoch 36/70\n",
      "109/109 [==============================] - 1s 7ms/step - loss: 0.4431 - accuracy: 0.8316 - val_loss: 0.7988 - val_accuracy: 0.6986\n",
      "Epoch 37/70\n",
      "109/109 [==============================] - 1s 7ms/step - loss: 0.4400 - accuracy: 0.8283 - val_loss: 0.7916 - val_accuracy: 0.7212\n",
      "Epoch 38/70\n",
      "109/109 [==============================] - 1s 7ms/step - loss: 0.4527 - accuracy: 0.8266 - val_loss: 0.8007 - val_accuracy: 0.7139\n",
      "Epoch 39/70\n",
      "109/109 [==============================] - 1s 7ms/step - loss: 0.4303 - accuracy: 0.8328 - val_loss: 0.8279 - val_accuracy: 0.7190\n",
      "Epoch 40/70\n",
      "109/109 [==============================] - 1s 7ms/step - loss: 0.4290 - accuracy: 0.8351 - val_loss: 0.8237 - val_accuracy: 0.7167\n",
      "Epoch 41/70\n",
      "109/109 [==============================] - 1s 8ms/step - loss: 0.4137 - accuracy: 0.8398 - val_loss: 0.8529 - val_accuracy: 0.6992\n",
      "Epoch 42/70\n",
      "109/109 [==============================] - 1s 8ms/step - loss: 0.4168 - accuracy: 0.8356 - val_loss: 0.8508 - val_accuracy: 0.6986\n",
      "Epoch 43/70\n",
      "109/109 [==============================] - 1s 8ms/step - loss: 0.4124 - accuracy: 0.8435 - val_loss: 0.8133 - val_accuracy: 0.7082\n",
      "Epoch 44/70\n",
      "109/109 [==============================] - 1s 8ms/step - loss: 0.4091 - accuracy: 0.8478 - val_loss: 0.8682 - val_accuracy: 0.7003\n",
      "Epoch 45/70\n",
      "109/109 [==============================] - 1s 8ms/step - loss: 0.4092 - accuracy: 0.8444 - val_loss: 0.8705 - val_accuracy: 0.7060\n",
      "Epoch 46/70\n",
      "109/109 [==============================] - 1s 8ms/step - loss: 0.3840 - accuracy: 0.8524 - val_loss: 0.8351 - val_accuracy: 0.7099\n",
      "Epoch 47/70\n",
      "109/109 [==============================] - 1s 8ms/step - loss: 0.3794 - accuracy: 0.8534 - val_loss: 0.7866 - val_accuracy: 0.7319\n",
      "Epoch 48/70\n",
      "109/109 [==============================] - 1s 8ms/step - loss: 0.3896 - accuracy: 0.8510 - val_loss: 0.8207 - val_accuracy: 0.7167\n",
      "Epoch 49/70\n",
      "109/109 [==============================] - 1s 8ms/step - loss: 0.3812 - accuracy: 0.8598 - val_loss: 0.8606 - val_accuracy: 0.7139\n",
      "Epoch 50/70\n",
      "109/109 [==============================] - 1s 8ms/step - loss: 0.3730 - accuracy: 0.8596 - val_loss: 0.8666 - val_accuracy: 0.6992\n",
      "Epoch 51/70\n",
      "109/109 [==============================] - 1s 8ms/step - loss: 0.3516 - accuracy: 0.8644 - val_loss: 0.8497 - val_accuracy: 0.7077\n",
      "Epoch 52/70\n",
      "109/109 [==============================] - 1s 8ms/step - loss: 0.3389 - accuracy: 0.8731 - val_loss: 0.8774 - val_accuracy: 0.7139\n",
      "Epoch 53/70\n",
      "109/109 [==============================] - 1s 8ms/step - loss: 0.3545 - accuracy: 0.8655 - val_loss: 0.8585 - val_accuracy: 0.7156\n",
      "Epoch 54/70\n",
      "109/109 [==============================] - 1s 8ms/step - loss: 0.3402 - accuracy: 0.8705 - val_loss: 0.8596 - val_accuracy: 0.7122\n",
      "Epoch 55/70\n",
      "109/109 [==============================] - 1s 8ms/step - loss: 0.3526 - accuracy: 0.8672 - val_loss: 0.8520 - val_accuracy: 0.7105\n",
      "Epoch 56/70\n",
      "109/109 [==============================] - 1s 8ms/step - loss: 0.3390 - accuracy: 0.8730 - val_loss: 0.9027 - val_accuracy: 0.6924\n",
      "Epoch 57/70\n",
      "109/109 [==============================] - 1s 8ms/step - loss: 0.3469 - accuracy: 0.8726 - val_loss: 0.8749 - val_accuracy: 0.7088\n",
      "Epoch 58/70\n",
      "109/109 [==============================] - 1s 8ms/step - loss: 0.3365 - accuracy: 0.8717 - val_loss: 0.9259 - val_accuracy: 0.6975\n",
      "Epoch 59/70\n",
      "109/109 [==============================] - 1s 8ms/step - loss: 0.3050 - accuracy: 0.8861 - val_loss: 0.8834 - val_accuracy: 0.7060\n",
      "Epoch 60/70\n",
      "109/109 [==============================] - 1s 7ms/step - loss: 0.3275 - accuracy: 0.8787 - val_loss: 0.8627 - val_accuracy: 0.7184\n",
      "Epoch 61/70\n",
      "109/109 [==============================] - 1s 7ms/step - loss: 0.3001 - accuracy: 0.8872 - val_loss: 0.8663 - val_accuracy: 0.7032\n",
      "Epoch 62/70\n",
      "109/109 [==============================] - 1s 7ms/step - loss: 0.3043 - accuracy: 0.8832 - val_loss: 0.8719 - val_accuracy: 0.6986\n",
      "Epoch 63/70\n",
      "109/109 [==============================] - 1s 7ms/step - loss: 0.3085 - accuracy: 0.8830 - val_loss: 0.8801 - val_accuracy: 0.7161\n",
      "Epoch 64/70\n",
      "109/109 [==============================] - 1s 7ms/step - loss: 0.3168 - accuracy: 0.8805 - val_loss: 0.8944 - val_accuracy: 0.7167\n",
      "Epoch 65/70\n",
      "109/109 [==============================] - 1s 8ms/step - loss: 0.3203 - accuracy: 0.8761 - val_loss: 0.8552 - val_accuracy: 0.7257\n",
      "Epoch 66/70\n",
      "109/109 [==============================] - 1s 7ms/step - loss: 0.3078 - accuracy: 0.8836 - val_loss: 0.8928 - val_accuracy: 0.7139\n",
      "Epoch 67/70\n",
      "109/109 [==============================] - 1s 7ms/step - loss: 0.3060 - accuracy: 0.8885 - val_loss: 0.8982 - val_accuracy: 0.7060\n",
      "Epoch 68/70\n",
      "109/109 [==============================] - 1s 8ms/step - loss: 0.3004 - accuracy: 0.8855 - val_loss: 0.8944 - val_accuracy: 0.7049\n",
      "Epoch 69/70\n",
      "109/109 [==============================] - 1s 7ms/step - loss: 0.2972 - accuracy: 0.8861 - val_loss: 0.8839 - val_accuracy: 0.7212\n",
      "Epoch 70/70\n",
      "109/109 [==============================] - 1s 7ms/step - loss: 0.3017 - accuracy: 0.8876 - val_loss: 0.8745 - val_accuracy: 0.7184\n"
     ]
    }
   ],
   "source": [
    "# Compiling the model\n",
    "basic_cnn_model.compile(loss='categorical_crossentropy',\n",
    "                 optimizer=cnn_optimizer,\n",
    "                 metrics=['accuracy'])\n",
    "\n",
    "# Training and validating the model\n",
    "basic_cnn_model_results = basic_cnn_model.fit(x_train,\n",
    "             y_train,\n",
    "             batch_size=64,\n",
    "             epochs=epochs,\n",
    "             validation_data=(x_test, y_test), verbose=True)\n"
   ]
  },
  {
   "cell_type": "markdown",
   "metadata": {
    "id": "Zmqdwmk-ryxb"
   },
   "source": [
    "## (vi)(CNN) Visualizing the accuracy and loss trajectory"
   ]
  },
  {
   "cell_type": "code",
   "execution_count": 128,
   "metadata": {
    "colab": {
     "base_uri": "https://localhost:8080/",
     "height": 0
    },
    "id": "ARDn5OkGryxb",
    "outputId": "efa18527-a2b7-44c8-948f-82dc09abf8e7"
   },
   "outputs": [
    {
     "data": {
      "image/png": "[encoded data removed]",
      "text/plain": [
       "<Figure size 432x288 with 1 Axes>"
      ]
     },
     "metadata": {
      "needs_background": "light"
     },
     "output_type": "display_data"
    },
    {
     "data": {
      "image/png": "[encoded data removed]",
      "text/plain": [
       "<Figure size 432x288 with 1 Axes>"
      ]
     },
     "metadata": {
      "needs_background": "light"
     },
     "output_type": "display_data"
    }
   ],
   "source": [
    "import matplotlib.pyplot as plt\n",
    "\n",
    "# Plotting accuracy trajectory\n",
    "plt.plot(basic_cnn_model_results.history['accuracy'])\n",
    "plt.plot(basic_cnn_model_results.history['val_accuracy'])\n",
    "plt.title('Basic CNN model accuracy trajectory')\n",
    "plt.ylabel('accuracy')\n",
    "plt.xlabel('epoch')\n",
    "plt.legend(['train', 'val'], loc='upper left')\n",
    "plt.show()\n",
    "\n",
    "# Plotting loss trajectory\n",
    "plt.plot(basic_cnn_model_results.history['loss'],'o')\n",
    "plt.plot(basic_cnn_model_results.history['val_loss'],'o')\n",
    "plt.title('Basic CNN model loss trajectory')\n",
    "plt.ylabel('loss')\n",
    "plt.xlabel('epoch')\n",
    "plt.legend(['train', 'val'], loc='upper left')\n",
    "plt.show()"
   ]
  },
  {
   "cell_type": "markdown",
   "metadata": {
    "id": "xBtQhcjjryxc"
   },
   "source": [
    "## (vii)(CNN) Testing the performance of the basic CNN model on the held out test set"
   ]
  },
  {
   "cell_type": "code",
   "execution_count": 129,
   "metadata": {
    "colab": {
     "base_uri": "https://localhost:8080/"
    },
    "id": "EOj9XVYjryxc",
    "outputId": "ab1b8176-1ad3-4cf2-d1b1-ca357f46a7a2"
   },
   "outputs": [
    {
     "name": "stdout",
     "output_type": "stream",
     "text": [
      "Test accuracy of the basic CNN model: 0.718397319316864\n"
     ]
    }
   ],
   "source": [
    "## Testing the basic CNN model\n",
    "\n",
    "cnn_score = basic_cnn_model.evaluate(x_test, y_test, verbose=0)\n",
    "print('Test accuracy of the basic CNN model:',cnn_score[1])"
   ]
  },
  {
   "cell_type": "markdown",
   "metadata": {
    "id": "hc3V_EXT9Mqd"
   },
   "source": [
    "# Add fake data - ACGAN shape(N,22,250,1)\n"
   ]
  },
  {
   "cell_type": "code",
   "execution_count": 108,
   "metadata": {
    "id": "BagmSmGVryxc"
   },
   "outputs": [],
   "source": [
    "fake_ACGAN = np.load('ACGAN_generate_X.npy')\n",
    "fake_label = np.load('generate_label.npy')\n",
    "\n",
    "fake_ACGAN = np.swapaxes(fake_ACGAN, 1,3)\n",
    "fake_ACGAN = np.swapaxes(fake_ACGAN, 1,2)\n",
    "\n",
    "#Add 8460/4 fake data\n",
    "x_train_plus = np.vstack((x_train, fake_ACGAN[0:fake_ACGAN.shape[0]//3]))\n",
    "y_train_plus = np.vstack((y_train, fake_label[0:fake_ACGAN.shape[0]//3]))\n",
    "p = np.random.permutation(x_train.shape[0])\n",
    "x_train_plus, y_train_plus = x_train_plus[p], y_train_plus[p]"
   ]
  },
  {
   "cell_type": "code",
   "execution_count": 86,
   "metadata": {
    "colab": {
     "base_uri": "https://localhost:8080/"
    },
    "id": "y-ef9S2y4HaZ",
    "outputId": "a642aa82-b045-465a-9769-589187446c1d"
   },
   "outputs": [
    {
     "name": "stdout",
     "output_type": "stream",
     "text": [
      "Model: \"sequential_5\"\n",
      "_________________________________________________________________\n",
      " Layer (type)                Output Shape              Param #   \n",
      "=================================================================\n",
      " conv2d_20 (Conv2D)          (None, 250, 1, 25)        5525      \n",
      "                                                                 \n",
      " max_pooling2d_20 (MaxPoolin  (None, 84, 1, 25)        0         \n",
      " g2D)                                                            \n",
      "                                                                 \n",
      " batch_normalization_20 (Bat  (None, 84, 1, 25)        100       \n",
      " chNormalization)                                                \n",
      "                                                                 \n",
      " dropout_20 (Dropout)        (None, 84, 1, 25)         0         \n",
      "                                                                 \n",
      " conv2d_21 (Conv2D)          (None, 84, 1, 50)         12550     \n",
      "                                                                 \n",
      " max_pooling2d_21 (MaxPoolin  (None, 28, 1, 50)        0         \n",
      " g2D)                                                            \n",
      "                                                                 \n",
      " batch_normalization_21 (Bat  (None, 28, 1, 50)        200       \n",
      " chNormalization)                                                \n",
      "                                                                 \n",
      " dropout_21 (Dropout)        (None, 28, 1, 50)         0         \n",
      "                                                                 \n",
      " conv2d_22 (Conv2D)          (None, 28, 1, 100)        50100     \n",
      "                                                                 \n",
      " max_pooling2d_22 (MaxPoolin  (None, 10, 1, 100)       0         \n",
      " g2D)                                                            \n",
      "                                                                 \n",
      " batch_normalization_22 (Bat  (None, 10, 1, 100)       400       \n",
      " chNormalization)                                                \n",
      "                                                                 \n",
      " dropout_22 (Dropout)        (None, 10, 1, 100)        0         \n",
      "                                                                 \n",
      " conv2d_23 (Conv2D)          (None, 10, 1, 200)        200200    \n",
      "                                                                 \n",
      " max_pooling2d_23 (MaxPoolin  (None, 4, 1, 200)        0         \n",
      " g2D)                                                            \n",
      "                                                                 \n",
      " batch_normalization_23 (Bat  (None, 4, 1, 200)        800       \n",
      " chNormalization)                                                \n",
      "                                                                 \n",
      " dropout_23 (Dropout)        (None, 4, 1, 200)         0         \n",
      "                                                                 \n",
      " flatten_5 (Flatten)         (None, 800)               0         \n",
      "                                                                 \n",
      " dense_5 (Dense)             (None, 4)                 3204      \n",
      "                                                                 \n",
      "=================================================================\n",
      "Total params: 273,079\n",
      "Trainable params: 272,329\n",
      "Non-trainable params: 750\n",
      "_________________________________________________________________\n"
     ]
    },
    {
     "name": "stderr",
     "output_type": "stream",
     "text": [
      "/usr/local/lib/python3.7/dist-packages/keras/optimizer_v2/adam.py:105: UserWarning: The `lr` argument is deprecated, use `learning_rate` instead.\n",
      "  super(Adam, self).__init__(name, **kwargs)\n"
     ]
    },
    {
     "name": "stdout",
     "output_type": "stream",
     "text": [
      "Epoch 1/70\n",
      "109/109 [==============================] - 2s 10ms/step - loss: 1.9938 - accuracy: 0.3135 - val_loss: 1.3785 - val_accuracy: 0.4052\n",
      "Epoch 2/70\n",
      "109/109 [==============================] - 1s 7ms/step - loss: 1.5620 - accuracy: 0.3598 - val_loss: 1.3047 - val_accuracy: 0.3939\n",
      "Epoch 3/70\n",
      "109/109 [==============================] - 1s 8ms/step - loss: 1.3628 - accuracy: 0.4102 - val_loss: 1.2430 - val_accuracy: 0.4046\n",
      "Epoch 4/70\n",
      "109/109 [==============================] - 1s 8ms/step - loss: 1.2503 - accuracy: 0.4583 - val_loss: 1.1836 - val_accuracy: 0.4707\n",
      "Epoch 5/70\n",
      "109/109 [==============================] - 1s 8ms/step - loss: 1.1746 - accuracy: 0.4945 - val_loss: 1.1467 - val_accuracy: 0.4944\n",
      "Epoch 6/70\n",
      "109/109 [==============================] - 1s 8ms/step - loss: 1.0879 - accuracy: 0.5414 - val_loss: 1.1877 - val_accuracy: 0.4802\n",
      "Epoch 7/70\n",
      "109/109 [==============================] - 1s 8ms/step - loss: 1.0469 - accuracy: 0.5596 - val_loss: 1.0154 - val_accuracy: 0.5796\n",
      "Epoch 8/70\n",
      "109/109 [==============================] - 1s 8ms/step - loss: 1.0087 - accuracy: 0.5803 - val_loss: 1.1075 - val_accuracy: 0.5305\n",
      "Epoch 9/70\n",
      "109/109 [==============================] - 1s 7ms/step - loss: 0.9603 - accuracy: 0.6119 - val_loss: 0.9833 - val_accuracy: 0.6050\n",
      "Epoch 10/70\n",
      "109/109 [==============================] - 1s 7ms/step - loss: 0.9192 - accuracy: 0.6263 - val_loss: 0.9135 - val_accuracy: 0.6236\n",
      "Epoch 11/70\n",
      "109/109 [==============================] - 1s 8ms/step - loss: 0.8886 - accuracy: 0.6402 - val_loss: 0.9592 - val_accuracy: 0.6095\n",
      "Epoch 12/70\n",
      "109/109 [==============================] - 1s 7ms/step - loss: 0.8642 - accuracy: 0.6478 - val_loss: 0.8914 - val_accuracy: 0.6196\n",
      "Epoch 13/70\n",
      "109/109 [==============================] - 1s 7ms/step - loss: 0.8163 - accuracy: 0.6761 - val_loss: 0.8705 - val_accuracy: 0.6512\n",
      "Epoch 14/70\n",
      "109/109 [==============================] - 1s 7ms/step - loss: 0.7883 - accuracy: 0.6868 - val_loss: 0.8670 - val_accuracy: 0.6428\n",
      "Epoch 15/70\n",
      "109/109 [==============================] - 1s 7ms/step - loss: 0.7644 - accuracy: 0.6960 - val_loss: 0.8425 - val_accuracy: 0.6772\n",
      "Epoch 16/70\n",
      "109/109 [==============================] - 1s 8ms/step - loss: 0.7587 - accuracy: 0.6997 - val_loss: 0.8023 - val_accuracy: 0.6795\n",
      "Epoch 17/70\n",
      "109/109 [==============================] - 1s 8ms/step - loss: 0.7381 - accuracy: 0.7108 - val_loss: 0.8268 - val_accuracy: 0.6597\n",
      "Epoch 18/70\n",
      "109/109 [==============================] - 1s 7ms/step - loss: 0.7090 - accuracy: 0.7277 - val_loss: 0.7713 - val_accuracy: 0.6947\n",
      "Epoch 19/70\n",
      "109/109 [==============================] - 1s 7ms/step - loss: 0.6928 - accuracy: 0.7293 - val_loss: 0.8162 - val_accuracy: 0.6913\n",
      "Epoch 20/70\n",
      "109/109 [==============================] - 1s 7ms/step - loss: 0.6614 - accuracy: 0.7415 - val_loss: 0.8252 - val_accuracy: 0.6727\n",
      "Epoch 21/70\n",
      "109/109 [==============================] - 1s 8ms/step - loss: 0.6489 - accuracy: 0.7476 - val_loss: 0.8373 - val_accuracy: 0.6670\n",
      "Epoch 22/70\n",
      "109/109 [==============================] - 1s 7ms/step - loss: 0.6317 - accuracy: 0.7547 - val_loss: 0.7578 - val_accuracy: 0.7049\n",
      "Epoch 23/70\n",
      "109/109 [==============================] - 1s 7ms/step - loss: 0.6270 - accuracy: 0.7586 - val_loss: 0.7937 - val_accuracy: 0.6862\n",
      "Epoch 24/70\n",
      "109/109 [==============================] - 1s 8ms/step - loss: 0.5971 - accuracy: 0.7665 - val_loss: 0.7870 - val_accuracy: 0.7049\n",
      "Epoch 25/70\n",
      "109/109 [==============================] - 1s 7ms/step - loss: 0.5924 - accuracy: 0.7695 - val_loss: 0.7884 - val_accuracy: 0.6789\n",
      "Epoch 26/70\n",
      "109/109 [==============================] - 1s 7ms/step - loss: 0.5772 - accuracy: 0.7787 - val_loss: 0.7988 - val_accuracy: 0.6789\n",
      "Epoch 27/70\n",
      "109/109 [==============================] - 1s 8ms/step - loss: 0.5675 - accuracy: 0.7829 - val_loss: 0.7918 - val_accuracy: 0.6879\n",
      "Epoch 28/70\n",
      "109/109 [==============================] - 1s 7ms/step - loss: 0.5669 - accuracy: 0.7830 - val_loss: 0.8216 - val_accuracy: 0.6862\n",
      "Epoch 29/70\n",
      "109/109 [==============================] - 1s 7ms/step - loss: 0.5160 - accuracy: 0.8009 - val_loss: 0.7928 - val_accuracy: 0.6891\n",
      "Epoch 30/70\n",
      "109/109 [==============================] - 1s 8ms/step - loss: 0.5225 - accuracy: 0.8006 - val_loss: 0.7886 - val_accuracy: 0.6902\n",
      "Epoch 31/70\n",
      "109/109 [==============================] - 1s 7ms/step - loss: 0.5185 - accuracy: 0.7986 - val_loss: 0.7335 - val_accuracy: 0.7161\n",
      "Epoch 32/70\n",
      "109/109 [==============================] - 1s 8ms/step - loss: 0.4949 - accuracy: 0.8154 - val_loss: 0.7668 - val_accuracy: 0.7054\n",
      "Epoch 33/70\n",
      "109/109 [==============================] - 1s 8ms/step - loss: 0.4891 - accuracy: 0.8145 - val_loss: 0.7718 - val_accuracy: 0.7032\n",
      "Epoch 34/70\n",
      "109/109 [==============================] - 1s 8ms/step - loss: 0.4950 - accuracy: 0.8099 - val_loss: 0.7810 - val_accuracy: 0.7082\n",
      "Epoch 35/70\n",
      "109/109 [==============================] - 1s 8ms/step - loss: 0.4628 - accuracy: 0.8259 - val_loss: 0.8410 - val_accuracy: 0.6738\n",
      "Epoch 36/70\n",
      "109/109 [==============================] - 1s 7ms/step - loss: 0.4594 - accuracy: 0.8296 - val_loss: 0.7702 - val_accuracy: 0.7105\n",
      "Epoch 37/70\n",
      "109/109 [==============================] - 1s 8ms/step - loss: 0.4540 - accuracy: 0.8295 - val_loss: 0.7719 - val_accuracy: 0.7133\n",
      "Epoch 38/70\n",
      "109/109 [==============================] - 1s 8ms/step - loss: 0.4402 - accuracy: 0.8319 - val_loss: 0.7771 - val_accuracy: 0.7128\n",
      "Epoch 39/70\n",
      "109/109 [==============================] - 1s 7ms/step - loss: 0.4288 - accuracy: 0.8376 - val_loss: 0.8058 - val_accuracy: 0.6913\n",
      "Epoch 40/70\n",
      "109/109 [==============================] - 1s 7ms/step - loss: 0.4388 - accuracy: 0.8356 - val_loss: 0.7773 - val_accuracy: 0.7009\n",
      "Epoch 41/70\n",
      "109/109 [==============================] - 1s 7ms/step - loss: 0.4394 - accuracy: 0.8341 - val_loss: 0.8167 - val_accuracy: 0.6891\n",
      "Epoch 42/70\n",
      "109/109 [==============================] - 1s 7ms/step - loss: 0.4243 - accuracy: 0.8381 - val_loss: 0.8022 - val_accuracy: 0.7105\n",
      "Epoch 43/70\n",
      "109/109 [==============================] - 1s 8ms/step - loss: 0.4051 - accuracy: 0.8477 - val_loss: 0.7847 - val_accuracy: 0.7201\n",
      "Epoch 44/70\n",
      "109/109 [==============================] - 1s 7ms/step - loss: 0.4205 - accuracy: 0.8391 - val_loss: 0.8407 - val_accuracy: 0.6936\n",
      "Epoch 45/70\n",
      "109/109 [==============================] - 1s 7ms/step - loss: 0.3996 - accuracy: 0.8481 - val_loss: 0.8384 - val_accuracy: 0.7003\n",
      "Epoch 46/70\n",
      "109/109 [==============================] - 1s 8ms/step - loss: 0.3972 - accuracy: 0.8510 - val_loss: 0.8186 - val_accuracy: 0.6964\n",
      "Epoch 47/70\n",
      "109/109 [==============================] - 1s 8ms/step - loss: 0.3905 - accuracy: 0.8533 - val_loss: 0.8214 - val_accuracy: 0.7037\n",
      "Epoch 48/70\n",
      "109/109 [==============================] - 1s 7ms/step - loss: 0.3717 - accuracy: 0.8596 - val_loss: 0.8505 - val_accuracy: 0.7116\n",
      "Epoch 49/70\n",
      "109/109 [==============================] - 1s 8ms/step - loss: 0.3809 - accuracy: 0.8556 - val_loss: 0.8375 - val_accuracy: 0.6981\n",
      "Epoch 50/70\n",
      "109/109 [==============================] - 1s 7ms/step - loss: 0.3783 - accuracy: 0.8592 - val_loss: 0.8031 - val_accuracy: 0.7088\n",
      "Epoch 51/70\n",
      "109/109 [==============================] - 1s 8ms/step - loss: 0.3631 - accuracy: 0.8636 - val_loss: 0.8166 - val_accuracy: 0.7049\n",
      "Epoch 52/70\n",
      "109/109 [==============================] - 1s 7ms/step - loss: 0.3763 - accuracy: 0.8547 - val_loss: 0.8317 - val_accuracy: 0.7122\n",
      "Epoch 53/70\n",
      "109/109 [==============================] - 1s 7ms/step - loss: 0.3575 - accuracy: 0.8651 - val_loss: 0.8661 - val_accuracy: 0.7099\n",
      "Epoch 54/70\n",
      "109/109 [==============================] - 1s 8ms/step - loss: 0.3650 - accuracy: 0.8605 - val_loss: 0.8443 - val_accuracy: 0.7003\n",
      "Epoch 55/70\n",
      "109/109 [==============================] - 1s 7ms/step - loss: 0.3622 - accuracy: 0.8575 - val_loss: 0.8044 - val_accuracy: 0.7161\n",
      "Epoch 56/70\n",
      "109/109 [==============================] - 1s 7ms/step - loss: 0.3409 - accuracy: 0.8731 - val_loss: 0.8219 - val_accuracy: 0.7099\n",
      "Epoch 57/70\n",
      "109/109 [==============================] - 1s 7ms/step - loss: 0.3342 - accuracy: 0.8734 - val_loss: 0.7983 - val_accuracy: 0.7280\n",
      "Epoch 58/70\n",
      "109/109 [==============================] - 1s 7ms/step - loss: 0.3342 - accuracy: 0.8764 - val_loss: 0.8672 - val_accuracy: 0.7049\n",
      "Epoch 59/70\n",
      "109/109 [==============================] - 1s 8ms/step - loss: 0.3409 - accuracy: 0.8710 - val_loss: 0.8415 - val_accuracy: 0.6924\n",
      "Epoch 60/70\n",
      "109/109 [==============================] - 1s 8ms/step - loss: 0.3328 - accuracy: 0.8723 - val_loss: 0.8543 - val_accuracy: 0.7015\n",
      "Epoch 61/70\n",
      "109/109 [==============================] - 1s 7ms/step - loss: 0.3404 - accuracy: 0.8677 - val_loss: 0.8840 - val_accuracy: 0.6941\n",
      "Epoch 62/70\n",
      "109/109 [==============================] - 1s 8ms/step - loss: 0.3104 - accuracy: 0.8784 - val_loss: 0.8195 - val_accuracy: 0.7082\n",
      "Epoch 63/70\n",
      "109/109 [==============================] - 1s 7ms/step - loss: 0.3203 - accuracy: 0.8796 - val_loss: 0.8556 - val_accuracy: 0.7032\n",
      "Epoch 64/70\n",
      "109/109 [==============================] - 1s 7ms/step - loss: 0.3234 - accuracy: 0.8756 - val_loss: 0.8056 - val_accuracy: 0.7128\n",
      "Epoch 65/70\n",
      "109/109 [==============================] - 1s 8ms/step - loss: 0.3239 - accuracy: 0.8813 - val_loss: 0.8971 - val_accuracy: 0.6812\n",
      "Epoch 66/70\n",
      "109/109 [==============================] - 1s 7ms/step - loss: 0.3015 - accuracy: 0.8841 - val_loss: 0.8387 - val_accuracy: 0.6970\n",
      "Epoch 67/70\n",
      "109/109 [==============================] - 1s 8ms/step - loss: 0.3007 - accuracy: 0.8891 - val_loss: 0.8146 - val_accuracy: 0.7376\n",
      "Epoch 68/70\n",
      "109/109 [==============================] - 1s 8ms/step - loss: 0.2991 - accuracy: 0.8904 - val_loss: 0.8088 - val_accuracy: 0.7150\n",
      "Epoch 69/70\n",
      "109/109 [==============================] - 1s 7ms/step - loss: 0.2989 - accuracy: 0.8905 - val_loss: 0.8334 - val_accuracy: 0.7065\n",
      "Epoch 70/70\n",
      "109/109 [==============================] - 1s 8ms/step - loss: 0.2901 - accuracy: 0.8927 - val_loss: 0.8210 - val_accuracy: 0.7257\n"
     ]
    }
   ],
   "source": [
    "# Building the CNN model using sequential class\n",
    "basic_cnn_model_1 = Sequential()\n",
    "\n",
    "# Conv. block 1\n",
    "basic_cnn_model_1.add(Conv2D(filters=25, kernel_size=(10,1), padding='same', activation='elu', input_shape=(250,1,22)))\n",
    "basic_cnn_model_1.add(MaxPooling2D(pool_size=(3,1), padding='same')) # Read the keras documentation\n",
    "basic_cnn_model_1.add(BatchNormalization())\n",
    "basic_cnn_model_1.add(Dropout(0.5))\n",
    "\n",
    "# Conv. block 2\n",
    "basic_cnn_model_1.add(Conv2D(filters=50, kernel_size=(10,1), padding='same', activation='elu'))\n",
    "basic_cnn_model_1.add(MaxPooling2D(pool_size=(3,1), padding='same'))\n",
    "basic_cnn_model_1.add(BatchNormalization())\n",
    "basic_cnn_model_1.add(Dropout(0.5))\n",
    "\n",
    "# Conv. block 3\n",
    "basic_cnn_model_1.add(Conv2D(filters=100, kernel_size=(10,1), padding='same', activation='elu'))\n",
    "basic_cnn_model_1.add(MaxPooling2D(pool_size=(3,1), padding='same'))\n",
    "basic_cnn_model_1.add(BatchNormalization())\n",
    "basic_cnn_model_1.add(Dropout(0.5))\n",
    "\n",
    "# Conv. block 4\n",
    "basic_cnn_model_1.add(Conv2D(filters=200, kernel_size=(10,1), padding='same', activation='elu'))\n",
    "basic_cnn_model_1.add(MaxPooling2D(pool_size=(3,1), padding='same'))\n",
    "basic_cnn_model_1.add(BatchNormalization())\n",
    "basic_cnn_model_1.add(Dropout(0.5))\n",
    "\n",
    "# # Conv. block 5\n",
    "# basic_cnn_model.add(Conv2D(filters=400, kernel_size=(10,1), padding='same', activation='elu'))\n",
    "# basic_cnn_model.add(MaxPooling2D(pool_size=(3,1), padding='same'))\n",
    "# basic_cnn_model.add(BatchNormalization())\n",
    "# basic_cnn_model.add(Dropout(0.5))\n",
    "\n",
    "# Output layer with Softmax activation\n",
    "basic_cnn_model_1.add(Flatten()) # Flattens the input\n",
    "basic_cnn_model_1.add(Dense(4, activation='softmax')) # Output FC layer with softmax activation\n",
    "\n",
    "\n",
    "# Printing the model summary\n",
    "basic_cnn_model_1.summary()\n",
    "\n",
    "\n",
    "# Model parameters\n",
    "learning_rate = 1e-3\n",
    "epochs = 70\n",
    "cnn_optimizer = tensorflow.keras.optimizers.Adam(lr=learning_rate)\n",
    "\n",
    "# Compiling the model\n",
    "basic_cnn_model_1.compile(loss='categorical_crossentropy',\n",
    "                 optimizer=cnn_optimizer,\n",
    "                 metrics=['accuracy'])\n",
    "\n",
    "# Training and validating the model\n",
    "basic_cnn_model_1_results = basic_cnn_model_1.fit(x_train_plus,\n",
    "             y_train_plus,\n",
    "             batch_size=64,\n",
    "             epochs=epochs,\n",
    "             validation_data=(x_test, y_test), verbose=True)"
   ]
  },
  {
   "cell_type": "code",
   "execution_count": 87,
   "metadata": {
    "colab": {
     "base_uri": "https://localhost:8080/",
     "height": 573
    },
    "id": "WnbhvUz-4sbu",
    "outputId": "b72c0f69-1c3c-4b87-e08c-8121680cfb5f"
   },
   "outputs": [
    {
     "data": {
      "image/png": "[encoded data removed]",
      "text/plain": [
       "<Figure size 432x288 with 1 Axes>"
      ]
     },
     "metadata": {
      "needs_background": "light"
     },
     "output_type": "display_data"
    },
    {
     "data": {
      "image/png": "[encoded data removed]",
      "text/plain": [
       "<Figure size 432x288 with 1 Axes>"
      ]
     },
     "metadata": {
      "needs_background": "light"
     },
     "output_type": "display_data"
    }
   ],
   "source": [
    "import matplotlib.pyplot as plt\n",
    "\n",
    "# Plotting accuracy trajectory\n",
    "plt.plot(basic_cnn_model_1_results.history['accuracy'])\n",
    "plt.plot(basic_cnn_model_1_results.history['val_accuracy'])\n",
    "plt.title('Basic CNN model accuracy trajectory')\n",
    "plt.ylabel('accuracy')\n",
    "plt.xlabel('epoch')\n",
    "plt.legend(['train', 'val'], loc='upper left')\n",
    "plt.show()\n",
    "\n",
    "# Plotting loss trajectory\n",
    "plt.plot(basic_cnn_model_1_results.history['loss'],'o')\n",
    "plt.plot(basic_cnn_model_1_results.history['val_loss'],'o')\n",
    "plt.title('Basic CNN model loss trajectory')\n",
    "plt.ylabel('loss')\n",
    "plt.xlabel('epoch')\n",
    "plt.legend(['train', 'val'], loc='upper left')\n",
    "plt.show()"
   ]
  },
  {
   "cell_type": "code",
   "execution_count": 88,
   "metadata": {
    "colab": {
     "base_uri": "https://localhost:8080/"
    },
    "id": "KfqTbtuy4yuC",
    "outputId": "8af46ea6-35c8-48bc-a52c-4a3cd496888c"
   },
   "outputs": [
    {
     "name": "stdout",
     "output_type": "stream",
     "text": [
      "Test accuracy of the basic CNN model: 0.7257336378097534\n"
     ]
    }
   ],
   "source": [
    "## Testing the basic CNN model\n",
    "\n",
    "cnn_score = basic_cnn_model_1.evaluate(x_test, y_test, verbose=0)\n",
    "print('Test accuracy of the basic CNN model:',cnn_score[1])"
   ]
  },
  {
   "cell_type": "markdown",
   "metadata": {
    "id": "eHcMwH7P_nlY"
   },
   "source": [
    "#Add fake data - WGAN"
   ]
  },
  {
   "cell_type": "code",
   "execution_count": 109,
   "metadata": {
    "colab": {
     "base_uri": "https://localhost:8080/"
    },
    "id": "yf7lqWma_Fk5",
    "outputId": "d180c960-9878-4f3d-d988-998234a153a9"
   },
   "outputs": [
    {
     "name": "stdout",
     "output_type": "stream",
     "text": [
      "Model: \"sequential_10\"\n",
      "_________________________________________________________________\n",
      " Layer (type)                Output Shape              Param #   \n",
      "=================================================================\n",
      " conv2d_40 (Conv2D)          (None, 250, 1, 25)        5525      \n",
      "                                                                 \n",
      " max_pooling2d_40 (MaxPoolin  (None, 84, 1, 25)        0         \n",
      " g2D)                                                            \n",
      "                                                                 \n",
      " batch_normalization_40 (Bat  (None, 84, 1, 25)        100       \n",
      " chNormalization)                                                \n",
      "                                                                 \n",
      " dropout_40 (Dropout)        (None, 84, 1, 25)         0         \n",
      "                                                                 \n",
      " conv2d_41 (Conv2D)          (None, 84, 1, 50)         12550     \n",
      "                                                                 \n",
      " max_pooling2d_41 (MaxPoolin  (None, 28, 1, 50)        0         \n",
      " g2D)                                                            \n",
      "                                                                 \n",
      " batch_normalization_41 (Bat  (None, 28, 1, 50)        200       \n",
      " chNormalization)                                                \n",
      "                                                                 \n",
      " dropout_41 (Dropout)        (None, 28, 1, 50)         0         \n",
      "                                                                 \n",
      " conv2d_42 (Conv2D)          (None, 28, 1, 100)        50100     \n",
      "                                                                 \n",
      " max_pooling2d_42 (MaxPoolin  (None, 10, 1, 100)       0         \n",
      " g2D)                                                            \n",
      "                                                                 \n",
      " batch_normalization_42 (Bat  (None, 10, 1, 100)       400       \n",
      " chNormalization)                                                \n",
      "                                                                 \n",
      " dropout_42 (Dropout)        (None, 10, 1, 100)        0         \n",
      "                                                                 \n",
      " conv2d_43 (Conv2D)          (None, 10, 1, 200)        200200    \n",
      "                                                                 \n",
      " max_pooling2d_43 (MaxPoolin  (None, 4, 1, 200)        0         \n",
      " g2D)                                                            \n",
      "                                                                 \n",
      " batch_normalization_43 (Bat  (None, 4, 1, 200)        800       \n",
      " chNormalization)                                                \n",
      "                                                                 \n",
      " dropout_43 (Dropout)        (None, 4, 1, 200)         0         \n",
      "                                                                 \n",
      " flatten_10 (Flatten)        (None, 800)               0         \n",
      "                                                                 \n",
      " dense_10 (Dense)            (None, 4)                 3204      \n",
      "                                                                 \n",
      "=================================================================\n",
      "Total params: 273,079\n",
      "Trainable params: 272,329\n",
      "Non-trainable params: 750\n",
      "_________________________________________________________________\n"
     ]
    },
    {
     "name": "stderr",
     "output_type": "stream",
     "text": [
      "/usr/local/lib/python3.7/dist-packages/keras/optimizer_v2/adam.py:105: UserWarning: The `lr` argument is deprecated, use `learning_rate` instead.\n",
      "  super(Adam, self).__init__(name, **kwargs)\n"
     ]
    },
    {
     "name": "stdout",
     "output_type": "stream",
     "text": [
      "Epoch 1/80\n",
      "109/109 [==============================] - 2s 10ms/step - loss: 2.0014 - accuracy: 0.3210 - val_loss: 1.3634 - val_accuracy: 0.3950\n",
      "Epoch 2/80\n",
      "109/109 [==============================] - 1s 8ms/step - loss: 1.5232 - accuracy: 0.3932 - val_loss: 1.3270 - val_accuracy: 0.4001\n",
      "Epoch 3/80\n",
      "109/109 [==============================] - 1s 8ms/step - loss: 1.3085 - accuracy: 0.4458 - val_loss: 1.2073 - val_accuracy: 0.4447\n",
      "Epoch 4/80\n",
      "109/109 [==============================] - 1s 8ms/step - loss: 1.1806 - accuracy: 0.4925 - val_loss: 1.2188 - val_accuracy: 0.4673\n",
      "Epoch 5/80\n",
      "109/109 [==============================] - 1s 7ms/step - loss: 1.1448 - accuracy: 0.5182 - val_loss: 1.0792 - val_accuracy: 0.5333\n",
      "Epoch 6/80\n",
      "109/109 [==============================] - 1s 7ms/step - loss: 1.0682 - accuracy: 0.5533 - val_loss: 1.0707 - val_accuracy: 0.5198\n",
      "Epoch 7/80\n",
      "109/109 [==============================] - 1s 8ms/step - loss: 1.0300 - accuracy: 0.5718 - val_loss: 1.0108 - val_accuracy: 0.5790\n",
      "Epoch 8/80\n",
      "109/109 [==============================] - 1s 8ms/step - loss: 0.9918 - accuracy: 0.5917 - val_loss: 0.9836 - val_accuracy: 0.6129\n",
      "Epoch 9/80\n",
      "109/109 [==============================] - 1s 8ms/step - loss: 0.9411 - accuracy: 0.6136 - val_loss: 0.9368 - val_accuracy: 0.6202\n",
      "Epoch 10/80\n",
      "109/109 [==============================] - 1s 8ms/step - loss: 0.8988 - accuracy: 0.6379 - val_loss: 0.9429 - val_accuracy: 0.6027\n",
      "Epoch 11/80\n",
      "109/109 [==============================] - 1s 7ms/step - loss: 0.8755 - accuracy: 0.6486 - val_loss: 0.9211 - val_accuracy: 0.6270\n",
      "Epoch 12/80\n",
      "109/109 [==============================] - 1s 7ms/step - loss: 0.8495 - accuracy: 0.6572 - val_loss: 0.8613 - val_accuracy: 0.6501\n",
      "Epoch 13/80\n",
      "109/109 [==============================] - 1s 7ms/step - loss: 0.8064 - accuracy: 0.6756 - val_loss: 0.8853 - val_accuracy: 0.6445\n",
      "Epoch 14/80\n",
      "109/109 [==============================] - 1s 7ms/step - loss: 0.7800 - accuracy: 0.6944 - val_loss: 0.8569 - val_accuracy: 0.6473\n",
      "Epoch 15/80\n",
      "109/109 [==============================] - 1s 8ms/step - loss: 0.7663 - accuracy: 0.6912 - val_loss: 0.8273 - val_accuracy: 0.6783\n",
      "Epoch 16/80\n",
      "109/109 [==============================] - 1s 7ms/step - loss: 0.7482 - accuracy: 0.7079 - val_loss: 0.8277 - val_accuracy: 0.6642\n",
      "Epoch 17/80\n",
      "109/109 [==============================] - 1s 7ms/step - loss: 0.7199 - accuracy: 0.7147 - val_loss: 0.8425 - val_accuracy: 0.6699\n",
      "Epoch 18/80\n",
      "109/109 [==============================] - 1s 8ms/step - loss: 0.7021 - accuracy: 0.7296 - val_loss: 0.8416 - val_accuracy: 0.6608\n",
      "Epoch 19/80\n",
      "109/109 [==============================] - 1s 8ms/step - loss: 0.6883 - accuracy: 0.7272 - val_loss: 0.8764 - val_accuracy: 0.6495\n",
      "Epoch 20/80\n",
      "109/109 [==============================] - 1s 8ms/step - loss: 0.6542 - accuracy: 0.7490 - val_loss: 0.9032 - val_accuracy: 0.6535\n",
      "Epoch 21/80\n",
      "109/109 [==============================] - 1s 8ms/step - loss: 0.6572 - accuracy: 0.7421 - val_loss: 0.8767 - val_accuracy: 0.6563\n",
      "Epoch 22/80\n",
      "109/109 [==============================] - 1s 7ms/step - loss: 0.6214 - accuracy: 0.7570 - val_loss: 0.9046 - val_accuracy: 0.6535\n",
      "Epoch 23/80\n",
      "109/109 [==============================] - 1s 8ms/step - loss: 0.6233 - accuracy: 0.7568 - val_loss: 0.8144 - val_accuracy: 0.6755\n",
      "Epoch 24/80\n",
      "109/109 [==============================] - 1s 7ms/step - loss: 0.6056 - accuracy: 0.7671 - val_loss: 0.8362 - val_accuracy: 0.6574\n",
      "Epoch 25/80\n",
      "109/109 [==============================] - 1s 7ms/step - loss: 0.5800 - accuracy: 0.7764 - val_loss: 0.7963 - val_accuracy: 0.6874\n",
      "Epoch 26/80\n",
      "109/109 [==============================] - 1s 7ms/step - loss: 0.5842 - accuracy: 0.7717 - val_loss: 0.8618 - val_accuracy: 0.6907\n",
      "Epoch 27/80\n",
      "109/109 [==============================] - 1s 7ms/step - loss: 0.5762 - accuracy: 0.7795 - val_loss: 0.8343 - val_accuracy: 0.6789\n",
      "Epoch 28/80\n",
      "109/109 [==============================] - 1s 7ms/step - loss: 0.5422 - accuracy: 0.7930 - val_loss: 0.8555 - val_accuracy: 0.6733\n",
      "Epoch 29/80\n",
      "109/109 [==============================] - 1s 7ms/step - loss: 0.5491 - accuracy: 0.7902 - val_loss: 0.8587 - val_accuracy: 0.6845\n",
      "Epoch 30/80\n",
      "109/109 [==============================] - 1s 8ms/step - loss: 0.5275 - accuracy: 0.7915 - val_loss: 0.8332 - val_accuracy: 0.6874\n",
      "Epoch 31/80\n",
      "109/109 [==============================] - 1s 7ms/step - loss: 0.5053 - accuracy: 0.8040 - val_loss: 0.8310 - val_accuracy: 0.6913\n",
      "Epoch 32/80\n",
      "109/109 [==============================] - 1s 7ms/step - loss: 0.4968 - accuracy: 0.8088 - val_loss: 0.8549 - val_accuracy: 0.6896\n",
      "Epoch 33/80\n",
      "109/109 [==============================] - 1s 8ms/step - loss: 0.5023 - accuracy: 0.8080 - val_loss: 0.8678 - val_accuracy: 0.6766\n",
      "Epoch 34/80\n",
      "109/109 [==============================] - 1s 8ms/step - loss: 0.4890 - accuracy: 0.8112 - val_loss: 0.8510 - val_accuracy: 0.6964\n",
      "Epoch 35/80\n",
      "109/109 [==============================] - 1s 7ms/step - loss: 0.4639 - accuracy: 0.8249 - val_loss: 0.8904 - val_accuracy: 0.6902\n",
      "Epoch 36/80\n",
      "109/109 [==============================] - 1s 8ms/step - loss: 0.4804 - accuracy: 0.8121 - val_loss: 0.8426 - val_accuracy: 0.6975\n",
      "Epoch 37/80\n",
      "109/109 [==============================] - 1s 7ms/step - loss: 0.4461 - accuracy: 0.8272 - val_loss: 0.8129 - val_accuracy: 0.7094\n",
      "Epoch 38/80\n",
      "109/109 [==============================] - 1s 7ms/step - loss: 0.4462 - accuracy: 0.8263 - val_loss: 0.8972 - val_accuracy: 0.6772\n",
      "Epoch 39/80\n",
      "109/109 [==============================] - 1s 8ms/step - loss: 0.4507 - accuracy: 0.8259 - val_loss: 0.8160 - val_accuracy: 0.7139\n",
      "Epoch 40/80\n",
      "109/109 [==============================] - 1s 8ms/step - loss: 0.4433 - accuracy: 0.8296 - val_loss: 0.8336 - val_accuracy: 0.6964\n",
      "Epoch 41/80\n",
      "109/109 [==============================] - 1s 8ms/step - loss: 0.4385 - accuracy: 0.8299 - val_loss: 0.8647 - val_accuracy: 0.6907\n",
      "Epoch 42/80\n",
      "109/109 [==============================] - 1s 8ms/step - loss: 0.4465 - accuracy: 0.8283 - val_loss: 0.8508 - val_accuracy: 0.7088\n",
      "Epoch 43/80\n",
      "109/109 [==============================] - 1s 7ms/step - loss: 0.4093 - accuracy: 0.8441 - val_loss: 0.8625 - val_accuracy: 0.6992\n",
      "Epoch 44/80\n",
      "109/109 [==============================] - 1s 7ms/step - loss: 0.3983 - accuracy: 0.8537 - val_loss: 0.8896 - val_accuracy: 0.6981\n",
      "Epoch 45/80\n",
      "109/109 [==============================] - 1s 7ms/step - loss: 0.3990 - accuracy: 0.8477 - val_loss: 0.8937 - val_accuracy: 0.6986\n",
      "Epoch 46/80\n",
      "109/109 [==============================] - 1s 7ms/step - loss: 0.4001 - accuracy: 0.8483 - val_loss: 0.8616 - val_accuracy: 0.7116\n",
      "Epoch 47/80\n",
      "109/109 [==============================] - 1s 8ms/step - loss: 0.3788 - accuracy: 0.8596 - val_loss: 0.8584 - val_accuracy: 0.7060\n",
      "Epoch 48/80\n",
      "109/109 [==============================] - 1s 7ms/step - loss: 0.3690 - accuracy: 0.8619 - val_loss: 0.8735 - val_accuracy: 0.7094\n",
      "Epoch 49/80\n",
      "109/109 [==============================] - 1s 8ms/step - loss: 0.3755 - accuracy: 0.8566 - val_loss: 0.8418 - val_accuracy: 0.7088\n",
      "Epoch 50/80\n",
      "109/109 [==============================] - 1s 7ms/step - loss: 0.3753 - accuracy: 0.8569 - val_loss: 0.8862 - val_accuracy: 0.7049\n",
      "Epoch 51/80\n",
      "109/109 [==============================] - 1s 8ms/step - loss: 0.3609 - accuracy: 0.8618 - val_loss: 0.8729 - val_accuracy: 0.7060\n",
      "Epoch 52/80\n",
      "109/109 [==============================] - 1s 8ms/step - loss: 0.3514 - accuracy: 0.8688 - val_loss: 0.9077 - val_accuracy: 0.6941\n",
      "Epoch 53/80\n",
      "109/109 [==============================] - 1s 8ms/step - loss: 0.3827 - accuracy: 0.8529 - val_loss: 0.8892 - val_accuracy: 0.7065\n",
      "Epoch 54/80\n",
      "109/109 [==============================] - 1s 8ms/step - loss: 0.3618 - accuracy: 0.8639 - val_loss: 0.8622 - val_accuracy: 0.7105\n",
      "Epoch 55/80\n",
      "109/109 [==============================] - 1s 8ms/step - loss: 0.3398 - accuracy: 0.8728 - val_loss: 0.8668 - val_accuracy: 0.7037\n",
      "Epoch 56/80\n",
      "109/109 [==============================] - 1s 8ms/step - loss: 0.3476 - accuracy: 0.8734 - val_loss: 0.8816 - val_accuracy: 0.7065\n",
      "Epoch 57/80\n",
      "109/109 [==============================] - 1s 8ms/step - loss: 0.3346 - accuracy: 0.8718 - val_loss: 0.8534 - val_accuracy: 0.7139\n",
      "Epoch 58/80\n",
      "109/109 [==============================] - 1s 7ms/step - loss: 0.3316 - accuracy: 0.8760 - val_loss: 0.9083 - val_accuracy: 0.6919\n",
      "Epoch 59/80\n",
      "109/109 [==============================] - 1s 8ms/step - loss: 0.3246 - accuracy: 0.8783 - val_loss: 0.8768 - val_accuracy: 0.7150\n",
      "Epoch 60/80\n",
      "109/109 [==============================] - 1s 8ms/step - loss: 0.3153 - accuracy: 0.8822 - val_loss: 0.9138 - val_accuracy: 0.7060\n",
      "Epoch 61/80\n",
      "109/109 [==============================] - 1s 8ms/step - loss: 0.3294 - accuracy: 0.8740 - val_loss: 0.8553 - val_accuracy: 0.7094\n",
      "Epoch 62/80\n",
      "109/109 [==============================] - 1s 7ms/step - loss: 0.3219 - accuracy: 0.8822 - val_loss: 0.8384 - val_accuracy: 0.7173\n",
      "Epoch 63/80\n",
      "109/109 [==============================] - 1s 7ms/step - loss: 0.3114 - accuracy: 0.8807 - val_loss: 0.8904 - val_accuracy: 0.6970\n",
      "Epoch 64/80\n",
      "109/109 [==============================] - 1s 8ms/step - loss: 0.3083 - accuracy: 0.8826 - val_loss: 0.8969 - val_accuracy: 0.7003\n",
      "Epoch 65/80\n",
      "109/109 [==============================] - 1s 7ms/step - loss: 0.3197 - accuracy: 0.8797 - val_loss: 0.9080 - val_accuracy: 0.7054\n",
      "Epoch 66/80\n",
      "109/109 [==============================] - 1s 7ms/step - loss: 0.3113 - accuracy: 0.8868 - val_loss: 0.9231 - val_accuracy: 0.7049\n",
      "Epoch 67/80\n",
      "109/109 [==============================] - 1s 8ms/step - loss: 0.2911 - accuracy: 0.8898 - val_loss: 0.9356 - val_accuracy: 0.6986\n",
      "Epoch 68/80\n",
      "109/109 [==============================] - 1s 8ms/step - loss: 0.3071 - accuracy: 0.8864 - val_loss: 0.8987 - val_accuracy: 0.7049\n",
      "Epoch 69/80\n",
      "109/109 [==============================] - 1s 8ms/step - loss: 0.3061 - accuracy: 0.8852 - val_loss: 0.9267 - val_accuracy: 0.6885\n",
      "Epoch 70/80\n",
      "109/109 [==============================] - 1s 8ms/step - loss: 0.3165 - accuracy: 0.8790 - val_loss: 0.9367 - val_accuracy: 0.7032\n",
      "Epoch 71/80\n",
      "109/109 [==============================] - 1s 8ms/step - loss: 0.2873 - accuracy: 0.8925 - val_loss: 0.9491 - val_accuracy: 0.7116\n",
      "Epoch 72/80\n",
      "109/109 [==============================] - 1s 8ms/step - loss: 0.2918 - accuracy: 0.8845 - val_loss: 0.9066 - val_accuracy: 0.7099\n",
      "Epoch 73/80\n",
      "109/109 [==============================] - 1s 8ms/step - loss: 0.2804 - accuracy: 0.8922 - val_loss: 0.8930 - val_accuracy: 0.7139\n",
      "Epoch 74/80\n",
      "109/109 [==============================] - 1s 8ms/step - loss: 0.2958 - accuracy: 0.8915 - val_loss: 0.9190 - val_accuracy: 0.7071\n",
      "Epoch 75/80\n",
      "109/109 [==============================] - 1s 8ms/step - loss: 0.2658 - accuracy: 0.9024 - val_loss: 0.9264 - val_accuracy: 0.7015\n",
      "Epoch 76/80\n",
      "109/109 [==============================] - 1s 8ms/step - loss: 0.2687 - accuracy: 0.8999 - val_loss: 0.9641 - val_accuracy: 0.7026\n",
      "Epoch 77/80\n",
      "109/109 [==============================] - 1s 8ms/step - loss: 0.2767 - accuracy: 0.8989 - val_loss: 0.9707 - val_accuracy: 0.7032\n",
      "Epoch 78/80\n",
      "109/109 [==============================] - 1s 7ms/step - loss: 0.2675 - accuracy: 0.8989 - val_loss: 0.9429 - val_accuracy: 0.7144\n",
      "Epoch 79/80\n",
      "109/109 [==============================] - 1s 8ms/step - loss: 0.2590 - accuracy: 0.9014 - val_loss: 0.9802 - val_accuracy: 0.6958\n",
      "Epoch 80/80\n",
      "109/109 [==============================] - 1s 8ms/step - loss: 0.2592 - accuracy: 0.9039 - val_loss: 0.9486 - val_accuracy: 0.7105\n"
     ]
    }
   ],
   "source": [
    "fake_WGAN = np.load('WGAN_generate_X.npy')\n",
    "fake_label = np.load('generate_label.npy')\n",
    "\n",
    "fake_WGAN = np.swapaxes(fake_WGAN, 1,3)\n",
    "fake_WGAN = np.swapaxes(fake_WGAN, 1,2)\n",
    "\n",
    "#Add 8460/4 fake data\n",
    "x_train_plus = np.vstack((x_train, fake_ACGAN[0:fake_WGAN.shape[0]//3]))\n",
    "y_train_plus = np.vstack((y_train, fake_label[0:fake_WGAN.shape[0]//3]))\n",
    "p = np.random.permutation(x_train.shape[0])\n",
    "x_train_plus, y_train_plus = x_train_plus[p], y_train_plus[p]\n",
    "\n",
    "# Building the CNN model using sequential class\n",
    "basic_cnn_model_2 = Sequential()\n",
    "\n",
    "# Conv. block 1\n",
    "basic_cnn_model_2.add(Conv2D(filters=25, kernel_size=(10,1), padding='same', activation='elu', input_shape=(250,1,22)))\n",
    "basic_cnn_model_2.add(MaxPooling2D(pool_size=(3,1), padding='same')) # Read the keras documentation\n",
    "basic_cnn_model_2.add(BatchNormalization())\n",
    "basic_cnn_model_2.add(Dropout(0.5))\n",
    "\n",
    "# Conv. block 2\n",
    "basic_cnn_model_2.add(Conv2D(filters=50, kernel_size=(10,1), padding='same', activation='elu'))\n",
    "basic_cnn_model_2.add(MaxPooling2D(pool_size=(3,1), padding='same'))\n",
    "basic_cnn_model_2.add(BatchNormalization())\n",
    "basic_cnn_model_2.add(Dropout(0.5))\n",
    "\n",
    "# Conv. block 3\n",
    "basic_cnn_model_2.add(Conv2D(filters=100, kernel_size=(10,1), padding='same', activation='elu'))\n",
    "basic_cnn_model_2.add(MaxPooling2D(pool_size=(3,1), padding='same'))\n",
    "basic_cnn_model_2.add(BatchNormalization())\n",
    "basic_cnn_model_2.add(Dropout(0.5))\n",
    "\n",
    "# Conv. block 4\n",
    "basic_cnn_model_2.add(Conv2D(filters=200, kernel_size=(10,1), padding='same', activation='elu'))\n",
    "basic_cnn_model_2.add(MaxPooling2D(pool_size=(3,1), padding='same'))\n",
    "basic_cnn_model_2.add(BatchNormalization())\n",
    "basic_cnn_model_2.add(Dropout(0.5))\n",
    "\n",
    "# # Conv. block 5\n",
    "# basic_cnn_model.add(Conv2D(filters=400, kernel_size=(10,1), padding='same', activation='elu'))\n",
    "# basic_cnn_model.add(MaxPooling2D(pool_size=(3,1), padding='same'))\n",
    "# basic_cnn_model.add(BatchNormalization())\n",
    "# basic_cnn_model.add(Dropout(0.5))\n",
    "\n",
    "# Output layer with Softmax activation\n",
    "basic_cnn_model_2.add(Flatten()) # Flattens the input\n",
    "basic_cnn_model_2.add(Dense(4, activation='softmax')) # Output FC layer with softmax activation\n",
    "\n",
    "\n",
    "# Printing the model summary\n",
    "basic_cnn_model_2.summary()\n",
    "\n",
    "\n",
    "# Model parameters\n",
    "learning_rate = 1e-3\n",
    "epochs = 80\n",
    "cnn_optimizer = tensorflow.keras.optimizers.Adam(lr=learning_rate)\n",
    "\n",
    "# Compiling the model\n",
    "basic_cnn_model_2.compile(loss='categorical_crossentropy',\n",
    "                 optimizer=cnn_optimizer,\n",
    "                 metrics=['accuracy'])\n",
    "\n",
    "# Training and validating the model\n",
    "basic_cnn_model_2_results = basic_cnn_model_2.fit(x_train_plus,\n",
    "             y_train_plus,\n",
    "             batch_size=64,\n",
    "             epochs=epochs,\n",
    "             validation_data=(x_test, y_test), verbose=True)"
   ]
  },
  {
   "cell_type": "code",
   "execution_count": 110,
   "metadata": {
    "colab": {
     "base_uri": "https://localhost:8080/",
     "height": 573
    },
    "id": "wP7iNWSn_Vzp",
    "outputId": "15b4e1c4-e5bd-4c1c-927c-1dcfba6baa87"
   },
   "outputs": [
    {
     "data": {
      "image/png": "[encoded data removed]",
      "text/plain": [
       "<Figure size 432x288 with 1 Axes>"
      ]
     },
     "metadata": {
      "needs_background": "light"
     },
     "output_type": "display_data"
    },
    {
     "data": {
      "image/png": "[encoded data removed]",
      "text/plain": [
       "<Figure size 432x288 with 1 Axes>"
      ]
     },
     "metadata": {
      "needs_background": "light"
     },
     "output_type": "display_data"
    }
   ],
   "source": [
    "import matplotlib.pyplot as plt\n",
    "\n",
    "# Plotting accuracy trajectory\n",
    "plt.plot(basic_cnn_model_2_results.history['accuracy'])\n",
    "plt.plot(basic_cnn_model_2_results.history['val_accuracy'])\n",
    "plt.title('Basic CNN model accuracy trajectory')\n",
    "plt.ylabel('accuracy')\n",
    "plt.xlabel('epoch')\n",
    "plt.legend(['train', 'val'], loc='upper left')\n",
    "plt.show()\n",
    "\n",
    "# Plotting loss trajectory\n",
    "plt.plot(basic_cnn_model_2_results.history['loss'],'o')\n",
    "plt.plot(basic_cnn_model_2_results.history['val_loss'],'o')\n",
    "plt.title('Basic CNN model loss trajectory')\n",
    "plt.ylabel('loss')\n",
    "plt.xlabel('epoch')\n",
    "plt.legend(['train', 'val'], loc='upper left')\n",
    "plt.show()"
   ]
  },
  {
   "cell_type": "code",
   "execution_count": 111,
   "metadata": {
    "colab": {
     "base_uri": "https://localhost:8080/"
    },
    "id": "q_Op0kjh_Xk9",
    "outputId": "1f70dbb0-e095-48d3-cb1c-9eb462f85805"
   },
   "outputs": [
    {
     "name": "stdout",
     "output_type": "stream",
     "text": [
      "Test accuracy of the basic CNN model: 0.7104966044425964\n"
     ]
    }
   ],
   "source": [
    "## Testing the basic CNN model\n",
    "\n",
    "cnn_score = basic_cnn_model_2.evaluate(x_test, y_test, verbose=0)\n",
    "print('Test accuracy of the basic CNN model:',cnn_score[1])"
   ]
  }
 ],
 "metadata": {
  "accelerator": "GPU",
  "colab": {
   "collapsed_sections": [
    "tLg_7w-RryxS",
    "RlBVUm6KryxU",
    "2X-C34hDryxZ",
    "clIdg48wryxa",
    "JFeReAakryxb",
    "Zmqdwmk-ryxb",
    "hc3V_EXT9Mqd",
    "eHcMwH7P_nlY"
   ],
   "machine_shape": "hm",
   "name": "Discussion 9 notebook - Tonmoy.ipynb",
   "provenance": []
  },
  "kernelspec": {
   "display_name": "Python 3",
   "language": "python",
   "name": "python3"
  },
  "language_info": {
   "codemirror_mode": {
    "name": "ipython",
    "version": 3
   },
   "file_extension": ".py",
   "mimetype": "text/x-python",
   "name": "python",
   "nbconvert_exporter": "python",
   "pygments_lexer": "ipython3",
   "version": "3.8.10"
  }
 },
 "nbformat": 4,
 "nbformat_minor": 1
}
