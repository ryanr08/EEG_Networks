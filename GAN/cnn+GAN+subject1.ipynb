{
 "cells": [
  {
   "cell_type": "markdown",
   "id": "f13e9457",
   "metadata": {},
   "source": [
    "# Imports"
   ]
  },
  {
   "cell_type": "code",
   "execution_count": 2,
   "id": "c5b5d7d7",
   "metadata": {},
   "outputs": [],
   "source": [
    "from preprocessing_sub import *"
   ]
  },
  {
   "cell_type": "markdown",
   "id": "959a2811",
   "metadata": {},
   "source": [
    "# Data Setup"
   ]
  },
  {
   "cell_type": "markdown",
   "id": "096c9d1a",
   "metadata": {},
   "source": [
    "## Load Data"
   ]
  },
  {
   "cell_type": "code",
   "execution_count": 3,
   "id": "00e95f01",
   "metadata": {},
   "outputs": [],
   "source": [
    "data_dir = ''\n",
    "X_train_valid, y_train_valid, X_test, y_test = load_data(data_dir, subjects=[1]) # default subjects=[1,2,3,4,5,6,7,8,9]"
   ]
  },
  {
   "cell_type": "markdown",
   "id": "b93d1e66",
   "metadata": {},
   "source": [
    "## Preprocessing"
   ]
  },
  {
   "cell_type": "code",
   "execution_count": 4,
   "id": "e081bdf7",
   "metadata": {},
   "outputs": [
    {
     "name": "stdout",
     "output_type": "stream",
     "text": [
      "Shape of x_train: (758, 250, 1, 22)\n",
      "Shape of x_valid: (190, 250, 1, 22)\n",
      "Shape of x_test: (200, 250, 1, 22)\n",
      "Shape of y_train: torch.Size([758, 4])\n",
      "Shape of y_valid: torch.Size([190, 4])\n",
      "Shape of y_test: torch.Size([200, 4])\n"
     ]
    }
   ],
   "source": [
    "x_train, y_train, x_valid, y_valid, x_test, y_test = main_prep(X_train_valid,y_train_valid,X_test, y_test,2,2,True)"
   ]
  },
  {
   "cell_type": "markdown",
   "id": "f7c1dd8a",
   "metadata": {},
   "source": [
    "## PyTorch Dataloaders"
   ]
  },
  {
   "cell_type": "code",
   "execution_count": 5,
   "id": "9869fa63",
   "metadata": {},
   "outputs": [],
   "source": [
    "trainloader, validloader, testloader = dataloader_setup(x_train, y_train, x_valid, y_valid, x_test, y_test, batch_size=32)"
   ]
  },
  {
   "cell_type": "markdown",
   "id": "11d40671",
   "metadata": {},
   "source": [
    "# CNN "
   ]
  },
  {
   "cell_type": "code",
   "execution_count": 6,
   "id": "ba8859e0",
   "metadata": {},
   "outputs": [],
   "source": [
    "import torch.nn as nn \n",
    "import torch.nn.functional as F \n",
    "\n",
    "\n",
    "class CNN(nn.Module):\n",
    "    \n",
    "    def __init__(self):\n",
    "        super().__init__()\n",
    "        #conv layers\n",
    "        # 250: input channels, 10: output channels, 5x5: square convolution kernel\n",
    "        self.conv1 = nn.Conv2d(22, 25, 1)\n",
    "        self.conv2 = nn.Conv2d(250, 25, 1)\n",
    "        self.pool = nn.MaxPool2d(1, stride=3)\n",
    "        self.conv3 = nn.Conv2d(25, 50, 1)\n",
    "        ''\n",
    "        # affine layers\n",
    "        self.fc1 = nn.Linear(150, 400)\n",
    "        self.fc2 = nn.Linear(400, 120)\n",
    "        self.fc3 = nn.Linear(120, 80)\n",
    "        self.fc4 = nn.Linear(80, 4) # 4 for output classes\n",
    "\n",
    "    def forward(self, x):\n",
    "        x = F.relu(self.conv1(x))\n",
    "        x = self.pool(F.relu(self.conv2(torch.transpose(x, 1, 3))))\n",
    "        x = self.pool(F.relu(self.conv3(x)))\n",
    "        x = torch.flatten(x, 1) # flatten all dimensions except batch\n",
    "        x = F.relu(self.fc1(x))\n",
    "        x = F.relu(self.fc2(x))\n",
    "        x = F.relu(self.fc3(x))\n",
    "        x = self.fc4(x)\n",
    "        return x\n",
    "\n",
    "\n",
    "cnn = CNN()"
   ]
  },
  {
   "cell_type": "code",
   "execution_count": 7,
   "id": "15ce9032",
   "metadata": {},
   "outputs": [
    {
     "name": "stdout",
     "output_type": "stream",
     "text": [
      "CNN(\n",
      "  (conv1): Conv2d(22, 25, kernel_size=(1, 1), stride=(1, 1))\n",
      "  (conv2): Conv2d(250, 25, kernel_size=(1, 1), stride=(1, 1))\n",
      "  (pool): MaxPool2d(kernel_size=1, stride=3, padding=0, dilation=1, ceil_mode=False)\n",
      "  (conv3): Conv2d(25, 50, kernel_size=(1, 1), stride=(1, 1))\n",
      "  (fc1): Linear(in_features=150, out_features=400, bias=True)\n",
      "  (fc2): Linear(in_features=400, out_features=120, bias=True)\n",
      "  (fc3): Linear(in_features=120, out_features=80, bias=True)\n",
      "  (fc4): Linear(in_features=80, out_features=4, bias=True)\n",
      ")\n"
     ]
    }
   ],
   "source": [
    "print(cnn)"
   ]
  },
  {
   "cell_type": "markdown",
   "id": "e66048cb",
   "metadata": {},
   "source": [
    "## CNN Optimizer and Loss"
   ]
  },
  {
   "cell_type": "code",
   "execution_count": 8,
   "id": "7bffff32",
   "metadata": {},
   "outputs": [],
   "source": [
    "import torch.optim as optim\n",
    "\n",
    "criterion = nn.CrossEntropyLoss()\n",
    "\n",
    "# create your optimizer\n",
    "optimizer = optim.Adam(cnn.parameters(), lr=0.001)"
   ]
  },
  {
   "cell_type": "code",
   "execution_count": 16,
   "id": "c8076671",
   "metadata": {},
   "outputs": [
    {
     "name": "stdout",
     "output_type": "stream",
     "text": [
      "Epoch 10: loss = 0.003016600850969553\n",
      "Epoch 20: loss = 0.00023464515106752515\n",
      "Epoch 30: loss = 7.791677489876747e-05\n",
      "Epoch 40: loss = 3.140794433420524e-05\n",
      "Epoch 50: loss = 2.0730114556499757e-05\n",
      "Epoch 60: loss = 1.04954706330318e-05\n",
      "Epoch 70: loss = 9.308740118285641e-06\n",
      "Epoch 80: loss = 8.149250788846985e-06\n",
      "Epoch 90: loss = 5.142137524671853e-06\n",
      "Epoch 100: loss = 5.093399977340596e-06\n"
     ]
    }
   ],
   "source": [
    "EPOCHS = 100\n",
    "\n",
    "for epoch in range(EPOCHS):\n",
    "\n",
    "    running_loss = 0.0\n",
    "    loss = None\n",
    "    for i, data in enumerate(trainloader, 0):\n",
    "            # get the inputs; data is a list of [inputs, labels]\n",
    "        inputs, labels = data\n",
    "        labels = labels.float()\n",
    "            \n",
    "        labels = torch.max(labels, 1)[1]#~~~~~~~~~~~\n",
    "            \n",
    "\n",
    "\n",
    "            # reshape inputs for time series convolution\n",
    "        inputs = torch.transpose(inputs, 1, 3)\n",
    "\n",
    "            # forward pass\n",
    "        outputs = cnn(inputs)\n",
    "\n",
    "        \n",
    "        \n",
    "        \n",
    "        loss = criterion(outputs, labels)\n",
    "\n",
    "        # backward + optimize\n",
    "        loss.backward() # backward to get gradient values\n",
    "        optimizer.step() # does the update\n",
    "\n",
    "        # zero the parameter gradients\n",
    "        optimizer.zero_grad()\n",
    "        \n",
    "        # accumulate loss\n",
    "        running_loss += loss.item()\n",
    "    if ((epoch+1) % 10 == 0):\n",
    "        print(f\"Epoch {epoch+1}: loss = {loss.item()}\")"
   ]
  },
  {
   "cell_type": "markdown",
   "id": "0415d775",
   "metadata": {},
   "source": [
    "## Validation "
   ]
  },
  {
   "cell_type": "code",
   "execution_count": 17,
   "id": "a20da3b5",
   "metadata": {},
   "outputs": [
    {
     "name": "stdout",
     "output_type": "stream",
     "text": [
      "Accuracy of the network on validation set: 97%\n"
     ]
    }
   ],
   "source": [
    "correct = 0\n",
    "total = 0\n",
    "# since we're not training, we don't need to calculate the gradients for our outputs\n",
    "with torch.no_grad():\n",
    "    for data in validloader:\n",
    "        inputs, labels = data\n",
    "        inputs = torch.transpose(inputs, 1, 3)\n",
    "        # calculate outputs by running images through the network\n",
    "        outputs = cnn(inputs)\n",
    "        # the class with the highest energy is what we choose as prediction\n",
    "        _, predicted = torch.max(outputs.data, dim=1)\n",
    "        _, label_indeces = torch.max(labels.data, dim=1)\n",
    "        total += labels.size(0)\n",
    "        correct += (predicted == label_indeces).sum().item()\n",
    "\n",
    "print(f'Accuracy of the network on validation set: {100 * correct // total}%')"
   ]
  },
  {
   "cell_type": "markdown",
   "id": "6bab91bb",
   "metadata": {},
   "source": [
    "## Test"
   ]
  },
  {
   "cell_type": "code",
   "execution_count": 18,
   "id": "df1968f4",
   "metadata": {},
   "outputs": [
    {
     "name": "stdout",
     "output_type": "stream",
     "text": [
      "Accuracy of the network on test set: 35%\n"
     ]
    }
   ],
   "source": [
    "correct = 0\n",
    "total = 0\n",
    "# since we're not training, we don't need to calculate the gradients for our outputs\n",
    "with torch.no_grad():\n",
    "    for data in testloader:\n",
    "        inputs, labels = data\n",
    "        inputs = torch.transpose(inputs, 1, 3)\n",
    "        # calculate outputs by running images through the network\n",
    "        outputs = cnn(inputs)\n",
    "        # the class with the highest energy is what we choose as prediction\n",
    "        _, predicted = torch.max(outputs.data, dim=1)\n",
    "        _, label_indeces = torch.max(labels.data, dim=1)\n",
    "        total += labels.size(0)\n",
    "        correct += (predicted == label_indeces).sum().item()\n",
    "\n",
    "print(f'Accuracy of the network on test set: {100 * correct // total}%')"
   ]
  },
  {
   "cell_type": "markdown",
   "id": "bbf03221",
   "metadata": {},
   "source": [
    "# Add fake data \n",
    "# shape(N,22,250,1)"
   ]
  },
  {
   "cell_type": "code",
   "execution_count": 28,
   "id": "2e3d10a9",
   "metadata": {},
   "outputs": [],
   "source": [
    "fake_WGAN = np.load('WGAN_generate_X_subject1.npy')\n",
    "fake_label = np.load('generate_label_subject1.npy')\n",
    "\n",
    "\n",
    "fake_WGAN = np.swapaxes(fake_WGAN, 1,2)\n",
    "fake_WGAN = np.swapaxes(fake_WGAN,2,3)\n",
    "\n",
    "\n",
    "#Add 8460/4 fake data\n",
    "x_train_plus = np.vstack((x_train, fake_WGAN[0:fake_WGAN.shape[0]//4]))\n",
    "y_train_plus = np.vstack((y_train, fake_label[0:fake_WGAN.shape[0]//4]))\n",
    "p = np.random.permutation(x_train.shape[0])\n",
    "x_train_plus, y_train_plus = x_train_plus[p], y_train_plus[p]"
   ]
  },
  {
   "cell_type": "code",
   "execution_count": 29,
   "id": "a2e77b3b",
   "metadata": {},
   "outputs": [],
   "source": [
    "trainloader, validloader, testloader = dataloader_setup(x_train_plus, y_train_plus, x_valid, y_valid, x_test, y_test, batch_size=32)"
   ]
  },
  {
   "cell_type": "code",
   "execution_count": 30,
   "id": "4abf8118",
   "metadata": {},
   "outputs": [],
   "source": [
    "import torch.nn as nn \n",
    "import torch.nn.functional as F \n",
    "\n",
    "\n",
    "class CNN(nn.Module):\n",
    "    \n",
    "    def __init__(self):\n",
    "        super().__init__()\n",
    "        #conv layers\n",
    "        # 250: input channels, 10: output channels, 5x5: square convolution kernel\n",
    "        self.conv1 = nn.Conv2d(22, 25, 1)\n",
    "        self.conv2 = nn.Conv2d(250, 25, 1)\n",
    "        self.pool = nn.MaxPool2d(1, stride=3)\n",
    "        self.conv3 = nn.Conv2d(25, 50, 1)\n",
    "        ''\n",
    "        # affine layers\n",
    "        self.fc1 = nn.Linear(150, 400)\n",
    "        self.fc2 = nn.Linear(400, 120)\n",
    "        self.fc3 = nn.Linear(120, 80)\n",
    "        self.fc4 = nn.Linear(80, 4) # 4 for output classes\n",
    "\n",
    "    def forward(self, x):\n",
    "        x = F.relu(self.conv1(x))\n",
    "        x = self.pool(F.relu(self.conv2(torch.transpose(x, 1, 3))))\n",
    "        x = self.pool(F.relu(self.conv3(x)))\n",
    "        x = torch.flatten(x, 1) # flatten all dimensions except batch\n",
    "        x = F.relu(self.fc1(x))\n",
    "        x = F.relu(self.fc2(x))\n",
    "        x = F.relu(self.fc3(x))\n",
    "        x = self.fc4(x)\n",
    "        return x\n",
    "\n",
    "\n",
    "cnn = CNN()"
   ]
  },
  {
   "cell_type": "code",
   "execution_count": 31,
   "id": "3bc845c3",
   "metadata": {},
   "outputs": [],
   "source": [
    "import torch.optim as optim\n",
    "\n",
    "criterion = nn.CrossEntropyLoss()\n",
    "\n",
    "# create your optimizer\n",
    "optimizer = optim.Adam(cnn.parameters(), lr=0.001)"
   ]
  },
  {
   "cell_type": "code",
   "execution_count": 32,
   "id": "75783b74",
   "metadata": {},
   "outputs": [
    {
     "name": "stdout",
     "output_type": "stream",
     "text": [
      "Epoch 10: loss = 0.0010091739241033792\n",
      "Epoch 20: loss = 9.843151201494038e-05\n",
      "Epoch 30: loss = 2.1991781977703795e-05\n",
      "Epoch 40: loss = 6.886835308250738e-06\n",
      "Epoch 50: loss = 3.820020083367126e-06\n",
      "Epoch 60: loss = 2.5954630018532043e-06\n",
      "Epoch 70: loss = 8.127883006636694e-07\n",
      "Epoch 80: loss = 7.911131092441792e-07\n",
      "Epoch 90: loss = 6.93579067956307e-07\n",
      "Epoch 100: loss = 4.0639477560944215e-07\n"
     ]
    }
   ],
   "source": [
    "EPOCHS = 100\n",
    "\n",
    "for epoch in range(EPOCHS):\n",
    "\n",
    "    running_loss = 0.0\n",
    "    loss = None\n",
    "    for i, data in enumerate(trainloader, 0):\n",
    "            # get the inputs; data is a list of [inputs, labels]\n",
    "        inputs, labels = data\n",
    "        labels = labels.float()\n",
    "            \n",
    "        labels = torch.max(labels, 1)[1]#~~~~~~~~~~~\n",
    "            \n",
    "\n",
    "\n",
    "            # reshape inputs for time series convolution\n",
    "        inputs = torch.transpose(inputs, 1, 3)\n",
    "\n",
    "            # forward pass\n",
    "        outputs = cnn(inputs)\n",
    "\n",
    "        \n",
    "        \n",
    "        \n",
    "        loss = criterion(outputs, labels)\n",
    "\n",
    "        # backward + optimize\n",
    "        loss.backward() # backward to get gradient values\n",
    "        optimizer.step() # does the update\n",
    "\n",
    "        # zero the parameter gradients\n",
    "        optimizer.zero_grad()\n",
    "        \n",
    "        # accumulate loss\n",
    "        running_loss += loss.item()\n",
    "    if ((epoch+1) % 10 == 0):\n",
    "        print(f\"Epoch {epoch+1}: loss = {loss.item()}\")"
   ]
  },
  {
   "cell_type": "code",
   "execution_count": 33,
   "id": "08748705",
   "metadata": {},
   "outputs": [
    {
     "name": "stdout",
     "output_type": "stream",
     "text": [
      "Accuracy of the network on validation set: 96%\n"
     ]
    }
   ],
   "source": [
    "correct = 0\n",
    "total = 0\n",
    "# since we're not training, we don't need to calculate the gradients for our outputs\n",
    "with torch.no_grad():\n",
    "    for data in validloader:\n",
    "        inputs, labels = data\n",
    "        inputs = torch.transpose(inputs, 1, 3)\n",
    "        # calculate outputs by running images through the network\n",
    "        outputs = cnn(inputs)\n",
    "        # the class with the highest energy is what we choose as prediction\n",
    "        _, predicted = torch.max(outputs.data, dim=1)\n",
    "        _, label_indeces = torch.max(labels.data, dim=1)\n",
    "        total += labels.size(0)\n",
    "        correct += (predicted == label_indeces).sum().item()\n",
    "\n",
    "print(f'Accuracy of the network on validation set: {100 * correct // total}%')"
   ]
  },
  {
   "cell_type": "code",
   "execution_count": 34,
   "id": "da6fc23c",
   "metadata": {},
   "outputs": [
    {
     "name": "stdout",
     "output_type": "stream",
     "text": [
      "Accuracy of the network on test set: 44%\n"
     ]
    }
   ],
   "source": [
    "correct = 0\n",
    "total = 0\n",
    "# since we're not training, we don't need to calculate the gradients for our outputs\n",
    "with torch.no_grad():\n",
    "    for data in testloader:\n",
    "        inputs, labels = data\n",
    "        inputs = torch.transpose(inputs, 1, 3)\n",
    "        # calculate outputs by running images through the network\n",
    "        outputs = cnn(inputs)\n",
    "        # the class with the highest energy is what we choose as prediction\n",
    "        _, predicted = torch.max(outputs.data, dim=1)\n",
    "        _, label_indeces = torch.max(labels.data, dim=1)\n",
    "        total += labels.size(0)\n",
    "        correct += (predicted == label_indeces).sum().item()\n",
    "\n",
    "print(f'Accuracy of the network on test set: {100 * correct // total}%')"
   ]
  },
  {
   "cell_type": "code",
   "execution_count": null,
   "id": "5e17069b",
   "metadata": {},
   "outputs": [],
   "source": []
  }
 ],
 "metadata": {
  "kernelspec": {
   "display_name": "Python 3",
   "language": "python",
   "name": "python3"
  },
  "language_info": {
   "codemirror_mode": {
    "name": "ipython",
    "version": 3
   },
   "file_extension": ".py",
   "mimetype": "text/x-python",
   "name": "python",
   "nbconvert_exporter": "python",
   "pygments_lexer": "ipython3",
   "version": "3.8.10"
  }
 },
 "nbformat": 4,
 "nbformat_minor": 5
}
