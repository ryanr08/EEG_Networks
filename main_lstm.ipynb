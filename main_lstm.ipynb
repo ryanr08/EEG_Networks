{
 "cells": [
  {
   "cell_type": "code",
   "execution_count": 1,
   "id": "92746a09",
   "metadata": {},
   "outputs": [],
   "source": [
    "from preprocessing import *\n",
    "from train_evaluate import *\n",
    "import torch\n",
    "import torch.nn as nn\n",
    "import torch.nn.functional as F\n",
    "import torch.optim as optim\n",
    "\n",
    "from torch.utils.data import DataLoader\n",
    "from torchsummary import summary\n",
    "\n",
    "import numpy as np"
   ]
  },
  {
   "cell_type": "markdown",
   "id": "3ff7aae3",
   "metadata": {},
   "source": [
    "# Data Setup"
   ]
  },
  {
   "cell_type": "markdown",
   "id": "5f85a7dd",
   "metadata": {},
   "source": [
    "## Load Data"
   ]
  },
  {
   "cell_type": "code",
   "execution_count": 2,
   "id": "0824322b",
   "metadata": {},
   "outputs": [],
   "source": [
    "data_dir = '/Users/michael/Desktop/Home/研究所/ECE247/projects/data/'\n",
    "X_train_valid, y_train_valid, X_test, y_test = load_data(data_dir, subjects=[1]) # default subjects=[1,2,3,4,5,6,7,8,9]"
   ]
  },
  {
   "cell_type": "markdown",
   "id": "a94cb1db",
   "metadata": {},
   "source": [
    "## Preprocessing"
   ]
  },
  {
   "cell_type": "code",
   "execution_count": 3,
   "id": "68646e0f",
   "metadata": {},
   "outputs": [
    {
     "name": "stdout",
     "output_type": "stream",
     "text": [
      "Shape of x_train: (758, 250, 1, 22)\n",
      "Shape of x_valid: (190, 250, 1, 22)\n",
      "Shape of x_test: (200, 250, 1, 22)\n",
      "Shape of y_train: torch.Size([758, 4])\n",
      "Shape of y_valid: torch.Size([190, 4])\n",
      "Shape of y_test: torch.Size([200, 4])\n"
     ]
    }
   ],
   "source": [
    "x_train, y_train, x_valid, y_valid, x_test, y_test = main_prep(X_train_valid,y_train_valid,X_test, y_test,2,2,True)"
   ]
  },
  {
   "cell_type": "markdown",
   "id": "76c6fc9c",
   "metadata": {},
   "source": [
    "## PyTorch Dataloaders"
   ]
  },
  {
   "cell_type": "code",
   "execution_count": 4,
   "id": "f34ce20f",
   "metadata": {},
   "outputs": [],
   "source": [
    "data_loaders  = dataloader_setup(x_train, y_train, x_valid, y_valid, x_test, y_test, batch_size=32)"
   ]
  },
  {
   "cell_type": "markdown",
   "id": "5d9fe233",
   "metadata": {},
   "source": [
    "# LSTM"
   ]
  },
  {
   "cell_type": "code",
   "execution_count": 5,
   "id": "9286f529",
   "metadata": {},
   "outputs": [],
   "source": [
    "class LSTM(nn.Module):\n",
    "    \n",
    "    def __init__(self):\n",
    "        super(LSTM, self).__init__()\n",
    "\n",
    "        self.lstm = nn.LSTM(22, 64, 3, batch_first=True, dropout=0.5)\n",
    "\n",
    "        self.fc = nn.Sequential(\n",
    "            nn.Linear(64, 54),\n",
    "            nn.BatchNorm1d(num_features=54, eps=1e-05, momentum=0.2, affine=True),\n",
    "            nn.ReLU(inplace = True),\n",
    "            nn.Dropout(p=0.5),\n",
    "            nn.Linear(54, 44),\n",
    "            nn.BatchNorm1d(num_features=44, eps=1e-05, momentum=0.2, affine=True),\n",
    "            nn.ReLU(inplace = True),\n",
    "            nn.Linear(44, 4)\n",
    "        )\n",
    "    \n",
    "    def forward(self, x, h=None):\n",
    "\n",
    "        # LSTM\n",
    "        N, C, H, W = x.size()\n",
    "        x = x.view(N, C, W).permute(0, 2, 1)\n",
    "        out, _ = self.lstm(x)\n",
    "\n",
    "        # Fully Connected Layer\n",
    "        out = self.fc(out[:, -1, :])\n",
    "\n",
    "        return out"
   ]
  },
  {
   "cell_type": "markdown",
   "id": "7fd26fda",
   "metadata": {},
   "source": [
    "# Train / Validate / Test"
   ]
  },
  {
   "cell_type": "code",
   "execution_count": 6,
   "id": "fe828a44",
   "metadata": {},
   "outputs": [],
   "source": [
    "LR      = 0.0005\n",
    "BETAS   = (0.9, 0.999)\n",
    "EPS     = 1e-08\n",
    "DECAY   = 0.0005\n",
    "\n",
    "BATCH_SIZE = 32\n",
    "EPOCHS  = 50"
   ]
  },
  {
   "cell_type": "code",
   "execution_count": 7,
   "id": "38918f29",
   "metadata": {},
   "outputs": [],
   "source": [
    "# initiate LSTM model\n",
    "model = LSTM()\n",
    "\n",
    "# create your optimizer\n",
    "optimizer = optim.Adam(lstm.parameters(), lr=LR, betas=BETAS, eps=EPS, weight_decay=DECAY)"
   ]
  },
  {
   "cell_type": "code",
   "execution_count": 8,
   "id": "ff309024",
   "metadata": {},
   "outputs": [
    {
     "name": "stdout",
     "output_type": "stream",
     "text": [
      "Training Progress: \tEpoch 1 [0/758 (0.00%)]\t\tLoss: 1.33271\n",
      "Training Progress: \tEpoch 1 [320/758 (41.67%)]\t\tLoss: 1.46610\n",
      "Training Progress: \tEpoch 1 [640/758 (83.33%)]\t\tLoss: 1.44777\n",
      "\tTrain loss: 0.04436, Accuracy: 196/758 (25.00%)\n",
      "\tValidation loss: 0.00743, Accuracy: 45/190 (23.00%)\n",
      "\tTest loss: 0.00701, Accuracy: 48/200 (24.00%)\n",
      "\n",
      "Training Progress: \tEpoch 2 [0/758 (0.00%)]\t\tLoss: 1.37888\n",
      "Training Progress: \tEpoch 2 [320/758 (41.67%)]\t\tLoss: 1.48760\n",
      "Training Progress: \tEpoch 2 [640/758 (83.33%)]\t\tLoss: 1.44180\n",
      "\tTrain loss: 0.04429, Accuracy: 202/758 (26.00%)\n",
      "\tValidation loss: 0.00742, Accuracy: 42/190 (22.00%)\n",
      "\tTest loss: 0.00702, Accuracy: 46/200 (23.00%)\n",
      "\n",
      "Training Progress: \tEpoch 3 [0/758 (0.00%)]\t\tLoss: 1.36359\n",
      "Training Progress: \tEpoch 3 [320/758 (41.67%)]\t\tLoss: 1.51968\n",
      "Training Progress: \tEpoch 3 [640/758 (83.33%)]\t\tLoss: 1.49050\n",
      "\tTrain loss: 0.04440, Accuracy: 201/758 (26.00%)\n",
      "\tValidation loss: 0.00745, Accuracy: 40/190 (21.00%)\n",
      "\tTest loss: 0.00706, Accuracy: 50/200 (25.00%)\n",
      "\n",
      "Training Progress: \tEpoch 4 [0/758 (0.00%)]\t\tLoss: 1.34620\n",
      "Training Progress: \tEpoch 4 [320/758 (41.67%)]\t\tLoss: 1.61194\n",
      "Training Progress: \tEpoch 4 [640/758 (83.33%)]\t\tLoss: 1.43815\n",
      "\tTrain loss: 0.04428, Accuracy: 208/758 (27.00%)\n",
      "\tValidation loss: 0.00743, Accuracy: 42/190 (22.00%)\n",
      "\tTest loss: 0.00703, Accuracy: 45/200 (22.00%)\n",
      "\n",
      "Training Progress: \tEpoch 5 [0/758 (0.00%)]\t\tLoss: 1.39296\n",
      "Training Progress: \tEpoch 5 [320/758 (41.67%)]\t\tLoss: 1.51374\n",
      "Training Progress: \tEpoch 5 [640/758 (83.33%)]\t\tLoss: 1.42445\n",
      "\tTrain loss: 0.04429, Accuracy: 197/758 (25.00%)\n",
      "\tValidation loss: 0.00743, Accuracy: 42/190 (22.00%)\n",
      "\tTest loss: 0.00705, Accuracy: 50/200 (25.00%)\n",
      "\n",
      "Best validation accuracy:\n",
      "0.23684210526315788\n",
      "Best test accuracy:\n",
      "0.25\n"
     ]
    },
    {
     "data": {
      "image/png": "[encoded data removed]",
      "text/plain": [
       "<Figure size 576x288 with 2 Axes>"
      ]
     },
     "metadata": {
      "needs_background": "light"
     },
     "output_type": "display_data"
    }
   ],
   "source": [
    "train_and_evaluate(model, optimizer, data_loaders, num_epochs=EPOCHS)"
   ]
  },
  {
   "cell_type": "code",
   "execution_count": null,
   "id": "4f12ffe2",
   "metadata": {},
   "outputs": [],
   "source": []
  }
 ],
 "metadata": {
  "kernelspec": {
   "display_name": "Python 3 (ipykernel)",
   "language": "python",
   "name": "python3"
  },
  "language_info": {
   "codemirror_mode": {
    "name": "ipython",
    "version": 3
   },
   "file_extension": ".py",
   "mimetype": "text/x-python",
   "name": "python",
   "nbconvert_exporter": "python",
   "pygments_lexer": "ipython3",
   "version": "3.8.12"
  }
 },
 "nbformat": 4,
 "nbformat_minor": 5
}
