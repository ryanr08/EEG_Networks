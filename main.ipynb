{
 "cells": [
  {
   "cell_type": "markdown",
   "metadata": {},
   "source": [
    "# Imports"
   ]
  },
  {
   "cell_type": "code",
   "execution_count": 155,
   "metadata": {},
   "outputs": [],
   "source": [
    "from preprocessing import *"
   ]
  },
  {
   "cell_type": "markdown",
   "metadata": {},
   "source": [
    "# Data Setup"
   ]
  },
  {
   "cell_type": "markdown",
   "metadata": {},
   "source": [
    "## Load Data"
   ]
  },
  {
   "cell_type": "code",
   "execution_count": 156,
   "metadata": {},
   "outputs": [],
   "source": [
    "data_dir = 'project_data/project/'\n",
    "X_train_valid, y_train_valid, X_test, y_test = load_data(data_dir, subjects=[1]) # default subjects=[1,2,3,4,5,6,7,8,9]"
   ]
  },
  {
   "cell_type": "markdown",
   "metadata": {},
   "source": [
    "## Preprocessing"
   ]
  },
  {
   "cell_type": "code",
   "execution_count": 157,
   "metadata": {},
   "outputs": [
    {
     "name": "stdout",
     "output_type": "stream",
     "text": [
      "Shape of x_train: (758, 250, 1, 22)\n",
      "Shape of x_valid: (190, 250, 1, 22)\n",
      "Shape of x_test: (200, 250, 1, 22)\n",
      "Shape of y_train: torch.Size([758, 4])\n",
      "Shape of y_valid: torch.Size([190, 4])\n",
      "Shape of y_test: torch.Size([200, 4])\n"
     ]
    }
   ],
   "source": [
    "x_train, y_train, x_valid, y_valid, x_test, y_test = main_prep(X_train_valid,y_train_valid,X_test, y_test,2,2,True)"
   ]
  },
  {
   "cell_type": "markdown",
   "metadata": {},
   "source": [
    "## PyTorch Dataloaders"
   ]
  },
  {
   "cell_type": "code",
   "execution_count": 158,
   "metadata": {},
   "outputs": [],
   "source": [
    "trainloader, validloader, testloader = dataloader_setup(x_train, y_train, x_valid, y_valid, x_test, y_test, batch_size=32)"
   ]
  },
  {
   "cell_type": "markdown",
   "metadata": {},
   "source": [
    "# CNN "
   ]
  },
  {
   "cell_type": "code",
   "execution_count": 179,
   "metadata": {},
   "outputs": [],
   "source": [
    "import torch.nn as nn \n",
    "import torch.nn.functional as F \n",
    "\n",
    "\n",
    "class CNN(nn.Module):\n",
    "    \n",
    "    def __init__(self):\n",
    "        super().__init__()\n",
    "        #conv layers\n",
    "        # 250: input channels, 10: output channels, 5x5: square convolution kernel\n",
    "        self.conv1 = nn.Conv2d(22, 25, 1)\n",
    "        self.conv2 = nn.Conv2d(250, 25, 1)\n",
    "        self.pool = nn.MaxPool2d(1, stride=3)\n",
    "        self.conv3 = nn.Conv2d(25, 50, 1)\n",
    "        ''\n",
    "        # affine layers\n",
    "        self.fc1 = nn.Linear(150, 400)\n",
    "        self.fc2 = nn.Linear(400, 120)\n",
    "        self.fc3 = nn.Linear(120, 80)\n",
    "        self.fc4 = nn.Linear(80, 4) # 4 for output classes\n",
    "\n",
    "    def forward(self, x):\n",
    "        x = F.relu(self.conv1(x))\n",
    "        x = self.pool(F.relu(self.conv2(torch.transpose(x, 1, 3))))\n",
    "        x = self.pool(F.relu(self.conv3(x)))\n",
    "        x = torch.flatten(x, 1) # flatten all dimensions except batch\n",
    "        x = F.relu(self.fc1(x))\n",
    "        x = F.relu(self.fc2(x))\n",
    "        x = F.relu(self.fc3(x))\n",
    "        x = self.fc4(x)\n",
    "        return x\n",
    "\n",
    "\n",
    "cnn = CNN()"
   ]
  },
  {
   "cell_type": "code",
   "execution_count": 180,
   "metadata": {},
   "outputs": [
    {
     "name": "stdout",
     "output_type": "stream",
     "text": [
      "CNN(\n",
      "  (conv1): Conv2d(22, 25, kernel_size=(1, 1), stride=(1, 1))\n",
      "  (conv2): Conv2d(250, 25, kernel_size=(1, 1), stride=(1, 1))\n",
      "  (pool): MaxPool2d(kernel_size=1, stride=3, padding=0, dilation=1, ceil_mode=False)\n",
      "  (conv3): Conv2d(25, 50, kernel_size=(1, 1), stride=(1, 1))\n",
      "  (fc1): Linear(in_features=150, out_features=400, bias=True)\n",
      "  (fc2): Linear(in_features=400, out_features=120, bias=True)\n",
      "  (fc3): Linear(in_features=120, out_features=80, bias=True)\n",
      "  (fc4): Linear(in_features=80, out_features=4, bias=True)\n",
      ")\n"
     ]
    }
   ],
   "source": [
    "print(cnn)"
   ]
  },
  {
   "cell_type": "markdown",
   "metadata": {},
   "source": [
    "## CNN Optimizer and Loss"
   ]
  },
  {
   "cell_type": "code",
   "execution_count": 181,
   "metadata": {},
   "outputs": [],
   "source": [
    "import torch.optim as optim\n",
    "\n",
    "criterion = nn.CrossEntropyLoss()\n",
    "\n",
    "# create your optimizer\n",
    "optimizer = optim.Adam(cnn.parameters(), lr=0.001)"
   ]
  },
  {
   "cell_type": "code",
   "execution_count": 182,
   "metadata": {},
   "outputs": [
    {
     "name": "stdout",
     "output_type": "stream",
     "text": [
      "Epoch 10: loss = 0.0005521992570720613\n",
      "Epoch 20: loss = 9.695346670923755e-05\n",
      "Epoch 30: loss = 4.097184137208387e-05\n",
      "Epoch 40: loss = 1.5642981452401727e-05\n",
      "Epoch 50: loss = 5.987505119264824e-06\n",
      "Epoch 60: loss = 5.879110176465474e-06\n",
      "Epoch 70: loss = 3.3107405670307344e-06\n",
      "Epoch 80: loss = 2.88267619907856e-06\n",
      "Epoch 90: loss = 2.6551006158115342e-06\n",
      "Epoch 100: loss = 1.1812525144705432e-06\n"
     ]
    }
   ],
   "source": [
    "EPOCHS = 100\n",
    "\n",
    "for epoch in range(EPOCHS):\n",
    "\n",
    "    running_loss = 0.0\n",
    "    loss = None\n",
    "    for i, data in enumerate(trainloader, 0):\n",
    "        # get the inputs; data is a list of [inputs, labels]\n",
    "        inputs, labels = data\n",
    "        labels = labels.float()\n",
    "\n",
    "        \n",
    "        # reshape inputs for time series convolution\n",
    "        inputs = torch.transpose(inputs, 1, 3)\n",
    "  \n",
    "        # forward pass\n",
    "        outputs = cnn(inputs)\n",
    "        loss = criterion(outputs, labels)\n",
    "\n",
    "        # backward + optimize\n",
    "        loss.backward() # backward to get gradient values\n",
    "        optimizer.step() # does the update\n",
    "\n",
    "        # zero the parameter gradients\n",
    "        optimizer.zero_grad()\n",
    "        \n",
    "        # accumulate loss\n",
    "        running_loss += loss.item()\n",
    "    if ((epoch+1) % 10 == 0):\n",
    "        print(f\"Epoch {epoch+1}: loss = {loss.item()}\")"
   ]
  },
  {
   "cell_type": "markdown",
   "metadata": {},
   "source": [
    "## Validation "
   ]
  },
  {
   "cell_type": "code",
   "execution_count": 183,
   "metadata": {},
   "outputs": [
    {
     "name": "stdout",
     "output_type": "stream",
     "text": [
      "Accuracy of the network on validation set: 98%\n"
     ]
    }
   ],
   "source": [
    "correct = 0\n",
    "total = 0\n",
    "# since we're not training, we don't need to calculate the gradients for our outputs\n",
    "with torch.no_grad():\n",
    "    for data in validloader:\n",
    "        inputs, labels = data\n",
    "        inputs = torch.transpose(inputs, 1, 3)\n",
    "        # calculate outputs by running images through the network\n",
    "        outputs = cnn(inputs)\n",
    "        # the class with the highest energy is what we choose as prediction\n",
    "        _, predicted = torch.max(outputs.data, dim=1)\n",
    "        _, label_indeces = torch.max(labels.data, dim=1)\n",
    "        total += labels.size(0)\n",
    "        correct += (predicted == label_indeces).sum().item()\n",
    "\n",
    "print(f'Accuracy of the network on validation set: {100 * correct // total}%')"
   ]
  },
  {
   "cell_type": "markdown",
   "metadata": {},
   "source": [
    "## Test"
   ]
  },
  {
   "cell_type": "code",
   "execution_count": 184,
   "metadata": {},
   "outputs": [
    {
     "name": "stdout",
     "output_type": "stream",
     "text": [
      "Accuracy of the network on test set: 33%\n"
     ]
    }
   ],
   "source": [
    "correct = 0\n",
    "total = 0\n",
    "# since we're not training, we don't need to calculate the gradients for our outputs\n",
    "with torch.no_grad():\n",
    "    for data in testloader:\n",
    "        inputs, labels = data\n",
    "        inputs = torch.transpose(inputs, 1, 3)\n",
    "        # calculate outputs by running images through the network\n",
    "        outputs = cnn(inputs)\n",
    "        # the class with the highest energy is what we choose as prediction\n",
    "        _, predicted = torch.max(outputs.data, dim=1)\n",
    "        _, label_indeces = torch.max(labels.data, dim=1)\n",
    "        total += labels.size(0)\n",
    "        correct += (predicted == label_indeces).sum().item()\n",
    "\n",
    "print(f'Accuracy of the network on test set: {100 * correct // total}%')"
   ]
  },
  {
   "cell_type": "code",
   "execution_count": null,
   "metadata": {},
   "outputs": [],
   "source": []
  }
 ],
 "metadata": {
  "kernelspec": {
   "display_name": "Python 3",
   "language": "python",
   "name": "python3"
  },
  "language_info": {
   "codemirror_mode": {
    "name": "ipython",
    "version": 3
   },
   "file_extension": ".py",
   "mimetype": "text/x-python",
   "name": "python",
   "nbconvert_exporter": "python",
   "pygments_lexer": "ipython3",
   "version": "3.7.6"
  }
 },
 "nbformat": 4,
 "nbformat_minor": 5
}
